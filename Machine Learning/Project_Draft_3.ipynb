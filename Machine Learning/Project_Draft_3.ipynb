{
 "cells": [
  {
   "cell_type": "markdown",
   "id": "d87d2f7d",
   "metadata": {},
   "source": [
    "<h2> Importing necessary packages"
   ]
  },
  {
   "cell_type": "code",
   "execution_count": 1,
   "id": "b8e26f97",
   "metadata": {},
   "outputs": [],
   "source": [
    "import pandas as pd\n",
    "import numpy as np\n",
    "from matplotlib import pyplot as plt\n",
    "import seaborn as sns\n",
    "from sklearn.model_selection import train_test_split\n",
    "from sklearn.linear_model import LogisticRegression\n",
    "from sklearn.metrics import confusion_matrix\n",
    "from sklearn.metrics import classification_report\n",
    "from sklearn.metrics import roc_curve\n",
    "import io"
   ]
  },
  {
   "cell_type": "code",
   "execution_count": 2,
   "id": "82adae62",
   "metadata": {},
   "outputs": [
    {
     "name": "stderr",
     "output_type": "stream",
     "text": [
      "c:\\users\\rohith ram\\appdata\\local\\programs\\python\\python39\\lib\\site-packages\\IPython\\core\\interactiveshell.py:3441: DtypeWarning: Columns (9) have mixed types.Specify dtype option on import or set low_memory=False.\n",
      "  exec(code_obj, self.user_global_ns, self.user_ns)\n"
     ]
    }
   ],
   "source": [
    "h1b_df = pd.read_csv(\"h1b_df.csv\")"
   ]
  },
  {
   "cell_type": "code",
   "execution_count": 3,
   "id": "c576fe8e",
   "metadata": {},
   "outputs": [],
   "source": [
    "h1b_df.dropna(inplace = True)"
   ]
  },
  {
   "cell_type": "code",
   "execution_count": 4,
   "id": "c42bef67",
   "metadata": {},
   "outputs": [],
   "source": [
    "h1b_df.drop(\"Unnamed: 0\", axis = 1, inplace=True)"
   ]
  },
  {
   "cell_type": "code",
   "execution_count": 5,
   "id": "3edc6aee",
   "metadata": {},
   "outputs": [
    {
     "data": {
      "text/html": [
       "<div>\n",
       "<style scoped>\n",
       "    .dataframe tbody tr th:only-of-type {\n",
       "        vertical-align: middle;\n",
       "    }\n",
       "\n",
       "    .dataframe tbody tr th {\n",
       "        vertical-align: top;\n",
       "    }\n",
       "\n",
       "    .dataframe thead th {\n",
       "        text-align: right;\n",
       "    }\n",
       "</style>\n",
       "<table border=\"1\" class=\"dataframe\">\n",
       "  <thead>\n",
       "    <tr style=\"text-align: right;\">\n",
       "      <th></th>\n",
       "      <th>CASE_NUMBER</th>\n",
       "      <th>DECISION_DATE</th>\n",
       "      <th>CASE_STATUS</th>\n",
       "      <th>REFILE</th>\n",
       "      <th>EMPLOYER_NAME</th>\n",
       "      <th>EMPLOYER_STATE</th>\n",
       "      <th>PW_SOC_TITLE</th>\n",
       "      <th>PW_LEVEL_9089</th>\n",
       "      <th>PW_AMOUNT_9089</th>\n",
       "      <th>PW_UNIT_OF_PAY_9089</th>\n",
       "      <th>JOB_INFO_JOB_TITLE</th>\n",
       "      <th>JOB_INFO_EDUCATION</th>\n",
       "      <th>JOB_INFO_EXPERIENCE</th>\n",
       "      <th>JOB_INFO_EXPERIENCE_NUM_MONTHS</th>\n",
       "      <th>COUNTRY_OF_CITIZENSHIP</th>\n",
       "      <th>CLASS_OF_ADMISSION</th>\n",
       "      <th>Year</th>\n",
       "    </tr>\n",
       "  </thead>\n",
       "  <tbody>\n",
       "    <tr>\n",
       "      <th>0</th>\n",
       "      <td>A-16270-56093</td>\n",
       "      <td>2017-01-03</td>\n",
       "      <td>Denied</td>\n",
       "      <td>N</td>\n",
       "      <td>Union General Hospital</td>\n",
       "      <td>GA</td>\n",
       "      <td>Medical and Clinical Laboratory Technologists</td>\n",
       "      <td>Level I</td>\n",
       "      <td>19.84</td>\n",
       "      <td>Hour</td>\n",
       "      <td>Medical Technologist</td>\n",
       "      <td>Bachelor's</td>\n",
       "      <td>Y</td>\n",
       "      <td>36.0</td>\n",
       "      <td>PHILIPPINES</td>\n",
       "      <td>H-1B</td>\n",
       "      <td>2017</td>\n",
       "    </tr>\n",
       "    <tr>\n",
       "      <th>1</th>\n",
       "      <td>A-16281-60165</td>\n",
       "      <td>2017-01-03</td>\n",
       "      <td>Denied</td>\n",
       "      <td>N</td>\n",
       "      <td>TYCO ELECTRONICS CORPORATION</td>\n",
       "      <td>PA</td>\n",
       "      <td>Computer Systems Analysts</td>\n",
       "      <td>Level III</td>\n",
       "      <td>94,598.00</td>\n",
       "      <td>Year</td>\n",
       "      <td>IT Auditor</td>\n",
       "      <td>Bachelor's</td>\n",
       "      <td>Y</td>\n",
       "      <td>24.0</td>\n",
       "      <td>INDIA</td>\n",
       "      <td>H-1B</td>\n",
       "      <td>2017</td>\n",
       "    </tr>\n",
       "    <tr>\n",
       "      <th>4</th>\n",
       "      <td>A-15265-20526</td>\n",
       "      <td>2017-01-03</td>\n",
       "      <td>Denied</td>\n",
       "      <td>N</td>\n",
       "      <td>CLOUD SHERPAS INC.</td>\n",
       "      <td>GA</td>\n",
       "      <td>Computer Systems Analysts</td>\n",
       "      <td>Level IV</td>\n",
       "      <td>100,422.00</td>\n",
       "      <td>Year</td>\n",
       "      <td>Senior Technical Consultant</td>\n",
       "      <td>Bachelor's</td>\n",
       "      <td>Y</td>\n",
       "      <td>60.0</td>\n",
       "      <td>INDIA</td>\n",
       "      <td>H-1B</td>\n",
       "      <td>2017</td>\n",
       "    </tr>\n",
       "    <tr>\n",
       "      <th>5</th>\n",
       "      <td>A-16159-19070</td>\n",
       "      <td>2017-01-03</td>\n",
       "      <td>Denied</td>\n",
       "      <td>N</td>\n",
       "      <td>Foundation for Orthopaedic Research &amp; Edu</td>\n",
       "      <td>FL</td>\n",
       "      <td>Industrial Engineers</td>\n",
       "      <td>Level I</td>\n",
       "      <td>47,611.00</td>\n",
       "      <td>Year</td>\n",
       "      <td>Industrial/Process Engineer</td>\n",
       "      <td>Bachelor's</td>\n",
       "      <td>Y</td>\n",
       "      <td>12.0</td>\n",
       "      <td>SLOVAKIA</td>\n",
       "      <td>H-1B</td>\n",
       "      <td>2017</td>\n",
       "    </tr>\n",
       "    <tr>\n",
       "      <th>6</th>\n",
       "      <td>A-16124-04926</td>\n",
       "      <td>2017-01-03</td>\n",
       "      <td>Denied</td>\n",
       "      <td>N</td>\n",
       "      <td>Hyde Leadership Charter School</td>\n",
       "      <td>NY</td>\n",
       "      <td>Elementary School Teachers, Except Special Edu...</td>\n",
       "      <td>Level I</td>\n",
       "      <td>51,020.00</td>\n",
       "      <td>Year</td>\n",
       "      <td>Elementary School Teacher</td>\n",
       "      <td>Bachelor's</td>\n",
       "      <td>Y</td>\n",
       "      <td>24.0</td>\n",
       "      <td>CANADA</td>\n",
       "      <td>H-1B</td>\n",
       "      <td>2017</td>\n",
       "    </tr>\n",
       "    <tr>\n",
       "      <th>...</th>\n",
       "      <td>...</td>\n",
       "      <td>...</td>\n",
       "      <td>...</td>\n",
       "      <td>...</td>\n",
       "      <td>...</td>\n",
       "      <td>...</td>\n",
       "      <td>...</td>\n",
       "      <td>...</td>\n",
       "      <td>...</td>\n",
       "      <td>...</td>\n",
       "      <td>...</td>\n",
       "      <td>...</td>\n",
       "      <td>...</td>\n",
       "      <td>...</td>\n",
       "      <td>...</td>\n",
       "      <td>...</td>\n",
       "      <td>...</td>\n",
       "    </tr>\n",
       "    <tr>\n",
       "      <th>197811</th>\n",
       "      <td>A-21111-76744</td>\n",
       "      <td>2021-09-30</td>\n",
       "      <td>Certified</td>\n",
       "      <td>N</td>\n",
       "      <td>VERINON TECHNOLOGY SOLUTIONS LIMITED</td>\n",
       "      <td>IL</td>\n",
       "      <td>Data Warehousing Specialists</td>\n",
       "      <td>Level III</td>\n",
       "      <td>95555.0</td>\n",
       "      <td>Year</td>\n",
       "      <td>Data Warehouse Engineer</td>\n",
       "      <td>Master's</td>\n",
       "      <td>Y</td>\n",
       "      <td>24.0</td>\n",
       "      <td>INDIA</td>\n",
       "      <td>H-1B</td>\n",
       "      <td>2021</td>\n",
       "    </tr>\n",
       "    <tr>\n",
       "      <th>197814</th>\n",
       "      <td>A-21113-77525</td>\n",
       "      <td>2021-09-30</td>\n",
       "      <td>Certified</td>\n",
       "      <td>N</td>\n",
       "      <td>VEN SOLUTIONS LLC</td>\n",
       "      <td>TX</td>\n",
       "      <td>Software Developers, Applications</td>\n",
       "      <td>Level II</td>\n",
       "      <td>93558.0</td>\n",
       "      <td>Year</td>\n",
       "      <td>Software Developer / Analyst</td>\n",
       "      <td>Master's</td>\n",
       "      <td>Y</td>\n",
       "      <td>6.0</td>\n",
       "      <td>INDIA</td>\n",
       "      <td>H-1B</td>\n",
       "      <td>2021</td>\n",
       "    </tr>\n",
       "    <tr>\n",
       "      <th>197815</th>\n",
       "      <td>A-21117-78997</td>\n",
       "      <td>2021-09-30</td>\n",
       "      <td>Certified</td>\n",
       "      <td>N</td>\n",
       "      <td>VEONEER US INC</td>\n",
       "      <td>MI</td>\n",
       "      <td>Software Developers, Systems Software</td>\n",
       "      <td>Level III</td>\n",
       "      <td>95160.0</td>\n",
       "      <td>Year</td>\n",
       "      <td>Lead Software Engineer</td>\n",
       "      <td>Master's</td>\n",
       "      <td>Y</td>\n",
       "      <td>36.0</td>\n",
       "      <td>INDIA</td>\n",
       "      <td>H-1B</td>\n",
       "      <td>2021</td>\n",
       "    </tr>\n",
       "    <tr>\n",
       "      <th>197816</th>\n",
       "      <td>A-21117-79089</td>\n",
       "      <td>2021-09-30</td>\n",
       "      <td>Certified</td>\n",
       "      <td>N</td>\n",
       "      <td>Vayyusoft LLC</td>\n",
       "      <td>PA</td>\n",
       "      <td>Software Developer</td>\n",
       "      <td>Level IV</td>\n",
       "      <td>143936.0</td>\n",
       "      <td>Year</td>\n",
       "      <td>Software Developer</td>\n",
       "      <td>Bachelor's</td>\n",
       "      <td>Y</td>\n",
       "      <td>60.0</td>\n",
       "      <td>INDIA</td>\n",
       "      <td>H-1B</td>\n",
       "      <td>2021</td>\n",
       "    </tr>\n",
       "    <tr>\n",
       "      <th>197818</th>\n",
       "      <td>A-21175-06988</td>\n",
       "      <td>2021-09-30</td>\n",
       "      <td>Certified</td>\n",
       "      <td>N</td>\n",
       "      <td>AE TELEVISION NETWORKS, LLC</td>\n",
       "      <td>NY</td>\n",
       "      <td>Software Developers, Systems Software</td>\n",
       "      <td>Level IV</td>\n",
       "      <td>143936.0</td>\n",
       "      <td>Year</td>\n",
       "      <td>Senior Platform Engineer</td>\n",
       "      <td>Bachelor's</td>\n",
       "      <td>Y</td>\n",
       "      <td>60.0</td>\n",
       "      <td>INDIA</td>\n",
       "      <td>H-1B</td>\n",
       "      <td>2021</td>\n",
       "    </tr>\n",
       "  </tbody>\n",
       "</table>\n",
       "<p>87495 rows × 17 columns</p>\n",
       "</div>"
      ],
      "text/plain": [
       "          CASE_NUMBER DECISION_DATE CASE_STATUS REFILE  \\\n",
       "0       A-16270-56093    2017-01-03      Denied      N   \n",
       "1       A-16281-60165    2017-01-03      Denied      N   \n",
       "4       A-15265-20526    2017-01-03      Denied      N   \n",
       "5       A-16159-19070    2017-01-03      Denied      N   \n",
       "6       A-16124-04926    2017-01-03      Denied      N   \n",
       "...               ...           ...         ...    ...   \n",
       "197811  A-21111-76744    2021-09-30   Certified      N   \n",
       "197814  A-21113-77525    2021-09-30   Certified      N   \n",
       "197815  A-21117-78997    2021-09-30   Certified      N   \n",
       "197816  A-21117-79089    2021-09-30   Certified      N   \n",
       "197818  A-21175-06988    2021-09-30   Certified      N   \n",
       "\n",
       "                                    EMPLOYER_NAME EMPLOYER_STATE  \\\n",
       "0                          Union General Hospital             GA   \n",
       "1                    TYCO ELECTRONICS CORPORATION             PA   \n",
       "4                              CLOUD SHERPAS INC.             GA   \n",
       "5       Foundation for Orthopaedic Research & Edu             FL   \n",
       "6                  Hyde Leadership Charter School             NY   \n",
       "...                                           ...            ...   \n",
       "197811       VERINON TECHNOLOGY SOLUTIONS LIMITED             IL   \n",
       "197814                          VEN SOLUTIONS LLC             TX   \n",
       "197815                             VEONEER US INC             MI   \n",
       "197816                              Vayyusoft LLC             PA   \n",
       "197818                AE TELEVISION NETWORKS, LLC             NY   \n",
       "\n",
       "                                             PW_SOC_TITLE PW_LEVEL_9089  \\\n",
       "0           Medical and Clinical Laboratory Technologists       Level I   \n",
       "1                               Computer Systems Analysts     Level III   \n",
       "4                               Computer Systems Analysts      Level IV   \n",
       "5                                    Industrial Engineers       Level I   \n",
       "6       Elementary School Teachers, Except Special Edu...       Level I   \n",
       "...                                                   ...           ...   \n",
       "197811                       Data Warehousing Specialists     Level III   \n",
       "197814                  Software Developers, Applications      Level II   \n",
       "197815              Software Developers, Systems Software     Level III   \n",
       "197816                                 Software Developer      Level IV   \n",
       "197818              Software Developers, Systems Software      Level IV   \n",
       "\n",
       "       PW_AMOUNT_9089 PW_UNIT_OF_PAY_9089            JOB_INFO_JOB_TITLE  \\\n",
       "0               19.84                Hour          Medical Technologist   \n",
       "1           94,598.00                Year                    IT Auditor   \n",
       "4          100,422.00                Year   Senior Technical Consultant   \n",
       "5           47,611.00                Year   Industrial/Process Engineer   \n",
       "6           51,020.00                Year     Elementary School Teacher   \n",
       "...               ...                 ...                           ...   \n",
       "197811        95555.0                Year       Data Warehouse Engineer   \n",
       "197814        93558.0                Year  Software Developer / Analyst   \n",
       "197815        95160.0                Year        Lead Software Engineer   \n",
       "197816       143936.0                Year            Software Developer   \n",
       "197818       143936.0                Year      Senior Platform Engineer   \n",
       "\n",
       "       JOB_INFO_EDUCATION JOB_INFO_EXPERIENCE  JOB_INFO_EXPERIENCE_NUM_MONTHS  \\\n",
       "0              Bachelor's                   Y                            36.0   \n",
       "1              Bachelor's                   Y                            24.0   \n",
       "4              Bachelor's                   Y                            60.0   \n",
       "5              Bachelor's                   Y                            12.0   \n",
       "6              Bachelor's                   Y                            24.0   \n",
       "...                   ...                 ...                             ...   \n",
       "197811           Master's                   Y                            24.0   \n",
       "197814           Master's                   Y                             6.0   \n",
       "197815           Master's                   Y                            36.0   \n",
       "197816         Bachelor's                   Y                            60.0   \n",
       "197818         Bachelor's                   Y                            60.0   \n",
       "\n",
       "       COUNTRY_OF_CITIZENSHIP CLASS_OF_ADMISSION  Year  \n",
       "0                 PHILIPPINES               H-1B  2017  \n",
       "1                       INDIA               H-1B  2017  \n",
       "4                       INDIA               H-1B  2017  \n",
       "5                    SLOVAKIA               H-1B  2017  \n",
       "6                      CANADA               H-1B  2017  \n",
       "...                       ...                ...   ...  \n",
       "197811                  INDIA               H-1B  2021  \n",
       "197814                  INDIA               H-1B  2021  \n",
       "197815                  INDIA               H-1B  2021  \n",
       "197816                  INDIA               H-1B  2021  \n",
       "197818                  INDIA               H-1B  2021  \n",
       "\n",
       "[87495 rows x 17 columns]"
      ]
     },
     "execution_count": 5,
     "metadata": {},
     "output_type": "execute_result"
    }
   ],
   "source": [
    "h1b_df"
   ]
  },
  {
   "cell_type": "code",
   "execution_count": 6,
   "id": "3e6082fe",
   "metadata": {},
   "outputs": [],
   "source": [
    "h1b_df.drop(\"CASE_NUMBER\", axis = 1, inplace=True)\n",
    "h1b_df.drop(\"DECISION_DATE\", axis = 1, inplace=True)"
   ]
  },
  {
   "cell_type": "code",
   "execution_count": 7,
   "id": "efb8150e",
   "metadata": {},
   "outputs": [
    {
     "data": {
      "text/html": [
       "<div>\n",
       "<style scoped>\n",
       "    .dataframe tbody tr th:only-of-type {\n",
       "        vertical-align: middle;\n",
       "    }\n",
       "\n",
       "    .dataframe tbody tr th {\n",
       "        vertical-align: top;\n",
       "    }\n",
       "\n",
       "    .dataframe thead th {\n",
       "        text-align: right;\n",
       "    }\n",
       "</style>\n",
       "<table border=\"1\" class=\"dataframe\">\n",
       "  <thead>\n",
       "    <tr style=\"text-align: right;\">\n",
       "      <th></th>\n",
       "      <th>CASE_STATUS</th>\n",
       "      <th>REFILE</th>\n",
       "      <th>EMPLOYER_NAME</th>\n",
       "      <th>EMPLOYER_STATE</th>\n",
       "      <th>PW_SOC_TITLE</th>\n",
       "      <th>PW_LEVEL_9089</th>\n",
       "      <th>PW_AMOUNT_9089</th>\n",
       "      <th>PW_UNIT_OF_PAY_9089</th>\n",
       "      <th>JOB_INFO_JOB_TITLE</th>\n",
       "      <th>JOB_INFO_EDUCATION</th>\n",
       "      <th>JOB_INFO_EXPERIENCE</th>\n",
       "      <th>JOB_INFO_EXPERIENCE_NUM_MONTHS</th>\n",
       "      <th>COUNTRY_OF_CITIZENSHIP</th>\n",
       "      <th>CLASS_OF_ADMISSION</th>\n",
       "      <th>Year</th>\n",
       "    </tr>\n",
       "  </thead>\n",
       "  <tbody>\n",
       "    <tr>\n",
       "      <th>0</th>\n",
       "      <td>Denied</td>\n",
       "      <td>N</td>\n",
       "      <td>Union General Hospital</td>\n",
       "      <td>GA</td>\n",
       "      <td>Medical and Clinical Laboratory Technologists</td>\n",
       "      <td>Level I</td>\n",
       "      <td>19.84</td>\n",
       "      <td>Hour</td>\n",
       "      <td>Medical Technologist</td>\n",
       "      <td>Bachelor's</td>\n",
       "      <td>Y</td>\n",
       "      <td>36.0</td>\n",
       "      <td>PHILIPPINES</td>\n",
       "      <td>H-1B</td>\n",
       "      <td>2017</td>\n",
       "    </tr>\n",
       "    <tr>\n",
       "      <th>1</th>\n",
       "      <td>Denied</td>\n",
       "      <td>N</td>\n",
       "      <td>TYCO ELECTRONICS CORPORATION</td>\n",
       "      <td>PA</td>\n",
       "      <td>Computer Systems Analysts</td>\n",
       "      <td>Level III</td>\n",
       "      <td>94,598.00</td>\n",
       "      <td>Year</td>\n",
       "      <td>IT Auditor</td>\n",
       "      <td>Bachelor's</td>\n",
       "      <td>Y</td>\n",
       "      <td>24.0</td>\n",
       "      <td>INDIA</td>\n",
       "      <td>H-1B</td>\n",
       "      <td>2017</td>\n",
       "    </tr>\n",
       "    <tr>\n",
       "      <th>4</th>\n",
       "      <td>Denied</td>\n",
       "      <td>N</td>\n",
       "      <td>CLOUD SHERPAS INC.</td>\n",
       "      <td>GA</td>\n",
       "      <td>Computer Systems Analysts</td>\n",
       "      <td>Level IV</td>\n",
       "      <td>100,422.00</td>\n",
       "      <td>Year</td>\n",
       "      <td>Senior Technical Consultant</td>\n",
       "      <td>Bachelor's</td>\n",
       "      <td>Y</td>\n",
       "      <td>60.0</td>\n",
       "      <td>INDIA</td>\n",
       "      <td>H-1B</td>\n",
       "      <td>2017</td>\n",
       "    </tr>\n",
       "    <tr>\n",
       "      <th>5</th>\n",
       "      <td>Denied</td>\n",
       "      <td>N</td>\n",
       "      <td>Foundation for Orthopaedic Research &amp; Edu</td>\n",
       "      <td>FL</td>\n",
       "      <td>Industrial Engineers</td>\n",
       "      <td>Level I</td>\n",
       "      <td>47,611.00</td>\n",
       "      <td>Year</td>\n",
       "      <td>Industrial/Process Engineer</td>\n",
       "      <td>Bachelor's</td>\n",
       "      <td>Y</td>\n",
       "      <td>12.0</td>\n",
       "      <td>SLOVAKIA</td>\n",
       "      <td>H-1B</td>\n",
       "      <td>2017</td>\n",
       "    </tr>\n",
       "    <tr>\n",
       "      <th>6</th>\n",
       "      <td>Denied</td>\n",
       "      <td>N</td>\n",
       "      <td>Hyde Leadership Charter School</td>\n",
       "      <td>NY</td>\n",
       "      <td>Elementary School Teachers, Except Special Edu...</td>\n",
       "      <td>Level I</td>\n",
       "      <td>51,020.00</td>\n",
       "      <td>Year</td>\n",
       "      <td>Elementary School Teacher</td>\n",
       "      <td>Bachelor's</td>\n",
       "      <td>Y</td>\n",
       "      <td>24.0</td>\n",
       "      <td>CANADA</td>\n",
       "      <td>H-1B</td>\n",
       "      <td>2017</td>\n",
       "    </tr>\n",
       "    <tr>\n",
       "      <th>...</th>\n",
       "      <td>...</td>\n",
       "      <td>...</td>\n",
       "      <td>...</td>\n",
       "      <td>...</td>\n",
       "      <td>...</td>\n",
       "      <td>...</td>\n",
       "      <td>...</td>\n",
       "      <td>...</td>\n",
       "      <td>...</td>\n",
       "      <td>...</td>\n",
       "      <td>...</td>\n",
       "      <td>...</td>\n",
       "      <td>...</td>\n",
       "      <td>...</td>\n",
       "      <td>...</td>\n",
       "    </tr>\n",
       "    <tr>\n",
       "      <th>197811</th>\n",
       "      <td>Certified</td>\n",
       "      <td>N</td>\n",
       "      <td>VERINON TECHNOLOGY SOLUTIONS LIMITED</td>\n",
       "      <td>IL</td>\n",
       "      <td>Data Warehousing Specialists</td>\n",
       "      <td>Level III</td>\n",
       "      <td>95555.0</td>\n",
       "      <td>Year</td>\n",
       "      <td>Data Warehouse Engineer</td>\n",
       "      <td>Master's</td>\n",
       "      <td>Y</td>\n",
       "      <td>24.0</td>\n",
       "      <td>INDIA</td>\n",
       "      <td>H-1B</td>\n",
       "      <td>2021</td>\n",
       "    </tr>\n",
       "    <tr>\n",
       "      <th>197814</th>\n",
       "      <td>Certified</td>\n",
       "      <td>N</td>\n",
       "      <td>VEN SOLUTIONS LLC</td>\n",
       "      <td>TX</td>\n",
       "      <td>Software Developers, Applications</td>\n",
       "      <td>Level II</td>\n",
       "      <td>93558.0</td>\n",
       "      <td>Year</td>\n",
       "      <td>Software Developer / Analyst</td>\n",
       "      <td>Master's</td>\n",
       "      <td>Y</td>\n",
       "      <td>6.0</td>\n",
       "      <td>INDIA</td>\n",
       "      <td>H-1B</td>\n",
       "      <td>2021</td>\n",
       "    </tr>\n",
       "    <tr>\n",
       "      <th>197815</th>\n",
       "      <td>Certified</td>\n",
       "      <td>N</td>\n",
       "      <td>VEONEER US INC</td>\n",
       "      <td>MI</td>\n",
       "      <td>Software Developers, Systems Software</td>\n",
       "      <td>Level III</td>\n",
       "      <td>95160.0</td>\n",
       "      <td>Year</td>\n",
       "      <td>Lead Software Engineer</td>\n",
       "      <td>Master's</td>\n",
       "      <td>Y</td>\n",
       "      <td>36.0</td>\n",
       "      <td>INDIA</td>\n",
       "      <td>H-1B</td>\n",
       "      <td>2021</td>\n",
       "    </tr>\n",
       "    <tr>\n",
       "      <th>197816</th>\n",
       "      <td>Certified</td>\n",
       "      <td>N</td>\n",
       "      <td>Vayyusoft LLC</td>\n",
       "      <td>PA</td>\n",
       "      <td>Software Developer</td>\n",
       "      <td>Level IV</td>\n",
       "      <td>143936.0</td>\n",
       "      <td>Year</td>\n",
       "      <td>Software Developer</td>\n",
       "      <td>Bachelor's</td>\n",
       "      <td>Y</td>\n",
       "      <td>60.0</td>\n",
       "      <td>INDIA</td>\n",
       "      <td>H-1B</td>\n",
       "      <td>2021</td>\n",
       "    </tr>\n",
       "    <tr>\n",
       "      <th>197818</th>\n",
       "      <td>Certified</td>\n",
       "      <td>N</td>\n",
       "      <td>AE TELEVISION NETWORKS, LLC</td>\n",
       "      <td>NY</td>\n",
       "      <td>Software Developers, Systems Software</td>\n",
       "      <td>Level IV</td>\n",
       "      <td>143936.0</td>\n",
       "      <td>Year</td>\n",
       "      <td>Senior Platform Engineer</td>\n",
       "      <td>Bachelor's</td>\n",
       "      <td>Y</td>\n",
       "      <td>60.0</td>\n",
       "      <td>INDIA</td>\n",
       "      <td>H-1B</td>\n",
       "      <td>2021</td>\n",
       "    </tr>\n",
       "  </tbody>\n",
       "</table>\n",
       "<p>87495 rows × 15 columns</p>\n",
       "</div>"
      ],
      "text/plain": [
       "       CASE_STATUS REFILE                              EMPLOYER_NAME  \\\n",
       "0           Denied      N                     Union General Hospital   \n",
       "1           Denied      N               TYCO ELECTRONICS CORPORATION   \n",
       "4           Denied      N                         CLOUD SHERPAS INC.   \n",
       "5           Denied      N  Foundation for Orthopaedic Research & Edu   \n",
       "6           Denied      N             Hyde Leadership Charter School   \n",
       "...            ...    ...                                        ...   \n",
       "197811   Certified      N       VERINON TECHNOLOGY SOLUTIONS LIMITED   \n",
       "197814   Certified      N                          VEN SOLUTIONS LLC   \n",
       "197815   Certified      N                             VEONEER US INC   \n",
       "197816   Certified      N                              Vayyusoft LLC   \n",
       "197818   Certified      N                AE TELEVISION NETWORKS, LLC   \n",
       "\n",
       "       EMPLOYER_STATE                                       PW_SOC_TITLE  \\\n",
       "0                  GA      Medical and Clinical Laboratory Technologists   \n",
       "1                  PA                          Computer Systems Analysts   \n",
       "4                  GA                          Computer Systems Analysts   \n",
       "5                  FL                               Industrial Engineers   \n",
       "6                  NY  Elementary School Teachers, Except Special Edu...   \n",
       "...               ...                                                ...   \n",
       "197811             IL                       Data Warehousing Specialists   \n",
       "197814             TX                  Software Developers, Applications   \n",
       "197815             MI              Software Developers, Systems Software   \n",
       "197816             PA                                 Software Developer   \n",
       "197818             NY              Software Developers, Systems Software   \n",
       "\n",
       "       PW_LEVEL_9089 PW_AMOUNT_9089 PW_UNIT_OF_PAY_9089  \\\n",
       "0            Level I          19.84                Hour   \n",
       "1          Level III      94,598.00                Year   \n",
       "4           Level IV     100,422.00                Year   \n",
       "5            Level I      47,611.00                Year   \n",
       "6            Level I      51,020.00                Year   \n",
       "...              ...            ...                 ...   \n",
       "197811     Level III        95555.0                Year   \n",
       "197814      Level II        93558.0                Year   \n",
       "197815     Level III        95160.0                Year   \n",
       "197816      Level IV       143936.0                Year   \n",
       "197818      Level IV       143936.0                Year   \n",
       "\n",
       "                  JOB_INFO_JOB_TITLE JOB_INFO_EDUCATION JOB_INFO_EXPERIENCE  \\\n",
       "0               Medical Technologist         Bachelor's                   Y   \n",
       "1                         IT Auditor         Bachelor's                   Y   \n",
       "4        Senior Technical Consultant         Bachelor's                   Y   \n",
       "5        Industrial/Process Engineer         Bachelor's                   Y   \n",
       "6          Elementary School Teacher         Bachelor's                   Y   \n",
       "...                              ...                ...                 ...   \n",
       "197811       Data Warehouse Engineer           Master's                   Y   \n",
       "197814  Software Developer / Analyst           Master's                   Y   \n",
       "197815        Lead Software Engineer           Master's                   Y   \n",
       "197816            Software Developer         Bachelor's                   Y   \n",
       "197818      Senior Platform Engineer         Bachelor's                   Y   \n",
       "\n",
       "        JOB_INFO_EXPERIENCE_NUM_MONTHS COUNTRY_OF_CITIZENSHIP  \\\n",
       "0                                 36.0            PHILIPPINES   \n",
       "1                                 24.0                  INDIA   \n",
       "4                                 60.0                  INDIA   \n",
       "5                                 12.0               SLOVAKIA   \n",
       "6                                 24.0                 CANADA   \n",
       "...                                ...                    ...   \n",
       "197811                            24.0                  INDIA   \n",
       "197814                             6.0                  INDIA   \n",
       "197815                            36.0                  INDIA   \n",
       "197816                            60.0                  INDIA   \n",
       "197818                            60.0                  INDIA   \n",
       "\n",
       "       CLASS_OF_ADMISSION  Year  \n",
       "0                    H-1B  2017  \n",
       "1                    H-1B  2017  \n",
       "4                    H-1B  2017  \n",
       "5                    H-1B  2017  \n",
       "6                    H-1B  2017  \n",
       "...                   ...   ...  \n",
       "197811               H-1B  2021  \n",
       "197814               H-1B  2021  \n",
       "197815               H-1B  2021  \n",
       "197816               H-1B  2021  \n",
       "197818               H-1B  2021  \n",
       "\n",
       "[87495 rows x 15 columns]"
      ]
     },
     "execution_count": 7,
     "metadata": {},
     "output_type": "execute_result"
    }
   ],
   "source": [
    "h1b_df"
   ]
  },
  {
   "cell_type": "markdown",
   "id": "2d6437f7",
   "metadata": {},
   "source": [
    "<h2> Indexing Categorical variables to integers "
   ]
  },
  {
   "cell_type": "code",
   "execution_count": 8,
   "id": "160d0bfa",
   "metadata": {},
   "outputs": [],
   "source": [
    "for i in range(0,len(h1b_df.columns)):\n",
    "    str1 = \"\"\n",
    "    if(i==6 or i==11 or i==14):\n",
    "        continue\n",
    "    data1 = h1b_df[h1b_df.columns[i]].astype('category')\n",
    "    str1 = h1b_df.columns[i] + \"_I\"\n",
    "    h1b_df[str1]=data1.cat.codes\n",
    "\n",
    "    "
   ]
  },
  {
   "cell_type": "code",
   "execution_count": 9,
   "id": "82048f3c",
   "metadata": {},
   "outputs": [],
   "source": [
    "h1b_df.drop(labels=[\"CASE_STATUS\", \"REFILE\",\"EMPLOYER_NAME\",\"EMPLOYER_STATE\",\"PW_SOC_TITLE\",\"PW_LEVEL_9089\",\"PW_UNIT_OF_PAY_9089\",\"JOB_INFO_EDUCATION\",\"JOB_INFO_EXPERIENCE\",\"COUNTRY_OF_CITIZENSHIP\",\"CLASS_OF_ADMISSION\",\"JOB_INFO_JOB_TITLE\"], axis=1, inplace=True)"
   ]
  },
  {
   "cell_type": "code",
   "execution_count": 10,
   "id": "8cfcfd0e",
   "metadata": {},
   "outputs": [
    {
     "data": {
      "text/html": [
       "<div>\n",
       "<style scoped>\n",
       "    .dataframe tbody tr th:only-of-type {\n",
       "        vertical-align: middle;\n",
       "    }\n",
       "\n",
       "    .dataframe tbody tr th {\n",
       "        vertical-align: top;\n",
       "    }\n",
       "\n",
       "    .dataframe thead th {\n",
       "        text-align: right;\n",
       "    }\n",
       "</style>\n",
       "<table border=\"1\" class=\"dataframe\">\n",
       "  <thead>\n",
       "    <tr style=\"text-align: right;\">\n",
       "      <th></th>\n",
       "      <th>PW_AMOUNT_9089</th>\n",
       "      <th>JOB_INFO_EXPERIENCE_NUM_MONTHS</th>\n",
       "      <th>Year</th>\n",
       "      <th>CASE_STATUS_I</th>\n",
       "      <th>REFILE_I</th>\n",
       "      <th>EMPLOYER_NAME_I</th>\n",
       "      <th>EMPLOYER_STATE_I</th>\n",
       "      <th>PW_SOC_TITLE_I</th>\n",
       "      <th>PW_LEVEL_9089_I</th>\n",
       "      <th>PW_UNIT_OF_PAY_9089_I</th>\n",
       "      <th>JOB_INFO_JOB_TITLE_I</th>\n",
       "      <th>JOB_INFO_EDUCATION_I</th>\n",
       "      <th>JOB_INFO_EXPERIENCE_I</th>\n",
       "      <th>COUNTRY_OF_CITIZENSHIP_I</th>\n",
       "      <th>CLASS_OF_ADMISSION_I</th>\n",
       "    </tr>\n",
       "  </thead>\n",
       "  <tbody>\n",
       "    <tr>\n",
       "      <th>0</th>\n",
       "      <td>19.84</td>\n",
       "      <td>36.0</td>\n",
       "      <td>2017</td>\n",
       "      <td>1</td>\n",
       "      <td>0</td>\n",
       "      <td>14417</td>\n",
       "      <td>74</td>\n",
       "      <td>1125</td>\n",
       "      <td>0</td>\n",
       "      <td>0</td>\n",
       "      <td>10332</td>\n",
       "      <td>1</td>\n",
       "      <td>1</td>\n",
       "      <td>111</td>\n",
       "      <td>0</td>\n",
       "    </tr>\n",
       "    <tr>\n",
       "      <th>1</th>\n",
       "      <td>94,598.00</td>\n",
       "      <td>24.0</td>\n",
       "      <td>2017</td>\n",
       "      <td>1</td>\n",
       "      <td>0</td>\n",
       "      <td>13854</td>\n",
       "      <td>227</td>\n",
       "      <td>429</td>\n",
       "      <td>2</td>\n",
       "      <td>2</td>\n",
       "      <td>7587</td>\n",
       "      <td>1</td>\n",
       "      <td>1</td>\n",
       "      <td>65</td>\n",
       "      <td>0</td>\n",
       "    </tr>\n",
       "    <tr>\n",
       "      <th>4</th>\n",
       "      <td>100,422.00</td>\n",
       "      <td>60.0</td>\n",
       "      <td>2017</td>\n",
       "      <td>1</td>\n",
       "      <td>0</td>\n",
       "      <td>2667</td>\n",
       "      <td>74</td>\n",
       "      <td>429</td>\n",
       "      <td>3</td>\n",
       "      <td>2</td>\n",
       "      <td>17737</td>\n",
       "      <td>1</td>\n",
       "      <td>1</td>\n",
       "      <td>65</td>\n",
       "      <td>0</td>\n",
       "    </tr>\n",
       "    <tr>\n",
       "      <th>5</th>\n",
       "      <td>47,611.00</td>\n",
       "      <td>12.0</td>\n",
       "      <td>2017</td>\n",
       "      <td>1</td>\n",
       "      <td>0</td>\n",
       "      <td>5262</td>\n",
       "      <td>64</td>\n",
       "      <td>879</td>\n",
       "      <td>0</td>\n",
       "      <td>2</td>\n",
       "      <td>7970</td>\n",
       "      <td>1</td>\n",
       "      <td>1</td>\n",
       "      <td>125</td>\n",
       "      <td>0</td>\n",
       "    </tr>\n",
       "    <tr>\n",
       "      <th>6</th>\n",
       "      <td>51,020.00</td>\n",
       "      <td>24.0</td>\n",
       "      <td>2017</td>\n",
       "      <td>1</td>\n",
       "      <td>0</td>\n",
       "      <td>6416</td>\n",
       "      <td>212</td>\n",
       "      <td>651</td>\n",
       "      <td>0</td>\n",
       "      <td>2</td>\n",
       "      <td>5864</td>\n",
       "      <td>1</td>\n",
       "      <td>1</td>\n",
       "      <td>30</td>\n",
       "      <td>0</td>\n",
       "    </tr>\n",
       "    <tr>\n",
       "      <th>...</th>\n",
       "      <td>...</td>\n",
       "      <td>...</td>\n",
       "      <td>...</td>\n",
       "      <td>...</td>\n",
       "      <td>...</td>\n",
       "      <td>...</td>\n",
       "      <td>...</td>\n",
       "      <td>...</td>\n",
       "      <td>...</td>\n",
       "      <td>...</td>\n",
       "      <td>...</td>\n",
       "      <td>...</td>\n",
       "      <td>...</td>\n",
       "      <td>...</td>\n",
       "      <td>...</td>\n",
       "    </tr>\n",
       "    <tr>\n",
       "      <th>197811</th>\n",
       "      <td>95555.0</td>\n",
       "      <td>24.0</td>\n",
       "      <td>2021</td>\n",
       "      <td>0</td>\n",
       "      <td>0</td>\n",
       "      <td>14562</td>\n",
       "      <td>90</td>\n",
       "      <td>527</td>\n",
       "      <td>2</td>\n",
       "      <td>2</td>\n",
       "      <td>4619</td>\n",
       "      <td>4</td>\n",
       "      <td>1</td>\n",
       "      <td>65</td>\n",
       "      <td>0</td>\n",
       "    </tr>\n",
       "    <tr>\n",
       "      <th>197814</th>\n",
       "      <td>93558.0</td>\n",
       "      <td>6.0</td>\n",
       "      <td>2021</td>\n",
       "      <td>0</td>\n",
       "      <td>0</td>\n",
       "      <td>14530</td>\n",
       "      <td>274</td>\n",
       "      <td>1767</td>\n",
       "      <td>1</td>\n",
       "      <td>2</td>\n",
       "      <td>18211</td>\n",
       "      <td>4</td>\n",
       "      <td>1</td>\n",
       "      <td>65</td>\n",
       "      <td>0</td>\n",
       "    </tr>\n",
       "    <tr>\n",
       "      <th>197815</th>\n",
       "      <td>95160.0</td>\n",
       "      <td>36.0</td>\n",
       "      <td>2021</td>\n",
       "      <td>0</td>\n",
       "      <td>0</td>\n",
       "      <td>14551</td>\n",
       "      <td>130</td>\n",
       "      <td>1780</td>\n",
       "      <td>2</td>\n",
       "      <td>2</td>\n",
       "      <td>8889</td>\n",
       "      <td>4</td>\n",
       "      <td>1</td>\n",
       "      <td>65</td>\n",
       "      <td>0</td>\n",
       "    </tr>\n",
       "    <tr>\n",
       "      <th>197816</th>\n",
       "      <td>143936.0</td>\n",
       "      <td>60.0</td>\n",
       "      <td>2021</td>\n",
       "      <td>0</td>\n",
       "      <td>0</td>\n",
       "      <td>14788</td>\n",
       "      <td>227</td>\n",
       "      <td>1718</td>\n",
       "      <td>3</td>\n",
       "      <td>2</td>\n",
       "      <td>18129</td>\n",
       "      <td>1</td>\n",
       "      <td>1</td>\n",
       "      <td>65</td>\n",
       "      <td>0</td>\n",
       "    </tr>\n",
       "    <tr>\n",
       "      <th>197818</th>\n",
       "      <td>143936.0</td>\n",
       "      <td>60.0</td>\n",
       "      <td>2021</td>\n",
       "      <td>0</td>\n",
       "      <td>0</td>\n",
       "      <td>325</td>\n",
       "      <td>212</td>\n",
       "      <td>1780</td>\n",
       "      <td>3</td>\n",
       "      <td>2</td>\n",
       "      <td>16669</td>\n",
       "      <td>1</td>\n",
       "      <td>1</td>\n",
       "      <td>65</td>\n",
       "      <td>0</td>\n",
       "    </tr>\n",
       "  </tbody>\n",
       "</table>\n",
       "<p>87495 rows × 15 columns</p>\n",
       "</div>"
      ],
      "text/plain": [
       "       PW_AMOUNT_9089  JOB_INFO_EXPERIENCE_NUM_MONTHS  Year  CASE_STATUS_I  \\\n",
       "0               19.84                            36.0  2017              1   \n",
       "1           94,598.00                            24.0  2017              1   \n",
       "4          100,422.00                            60.0  2017              1   \n",
       "5           47,611.00                            12.0  2017              1   \n",
       "6           51,020.00                            24.0  2017              1   \n",
       "...               ...                             ...   ...            ...   \n",
       "197811        95555.0                            24.0  2021              0   \n",
       "197814        93558.0                             6.0  2021              0   \n",
       "197815        95160.0                            36.0  2021              0   \n",
       "197816       143936.0                            60.0  2021              0   \n",
       "197818       143936.0                            60.0  2021              0   \n",
       "\n",
       "        REFILE_I  EMPLOYER_NAME_I  EMPLOYER_STATE_I  PW_SOC_TITLE_I  \\\n",
       "0              0            14417                74            1125   \n",
       "1              0            13854               227             429   \n",
       "4              0             2667                74             429   \n",
       "5              0             5262                64             879   \n",
       "6              0             6416               212             651   \n",
       "...          ...              ...               ...             ...   \n",
       "197811         0            14562                90             527   \n",
       "197814         0            14530               274            1767   \n",
       "197815         0            14551               130            1780   \n",
       "197816         0            14788               227            1718   \n",
       "197818         0              325               212            1780   \n",
       "\n",
       "        PW_LEVEL_9089_I  PW_UNIT_OF_PAY_9089_I  JOB_INFO_JOB_TITLE_I  \\\n",
       "0                     0                      0                 10332   \n",
       "1                     2                      2                  7587   \n",
       "4                     3                      2                 17737   \n",
       "5                     0                      2                  7970   \n",
       "6                     0                      2                  5864   \n",
       "...                 ...                    ...                   ...   \n",
       "197811                2                      2                  4619   \n",
       "197814                1                      2                 18211   \n",
       "197815                2                      2                  8889   \n",
       "197816                3                      2                 18129   \n",
       "197818                3                      2                 16669   \n",
       "\n",
       "        JOB_INFO_EDUCATION_I  JOB_INFO_EXPERIENCE_I  COUNTRY_OF_CITIZENSHIP_I  \\\n",
       "0                          1                      1                       111   \n",
       "1                          1                      1                        65   \n",
       "4                          1                      1                        65   \n",
       "5                          1                      1                       125   \n",
       "6                          1                      1                        30   \n",
       "...                      ...                    ...                       ...   \n",
       "197811                     4                      1                        65   \n",
       "197814                     4                      1                        65   \n",
       "197815                     4                      1                        65   \n",
       "197816                     1                      1                        65   \n",
       "197818                     1                      1                        65   \n",
       "\n",
       "        CLASS_OF_ADMISSION_I  \n",
       "0                          0  \n",
       "1                          0  \n",
       "4                          0  \n",
       "5                          0  \n",
       "6                          0  \n",
       "...                      ...  \n",
       "197811                     0  \n",
       "197814                     0  \n",
       "197815                     0  \n",
       "197816                     0  \n",
       "197818                     0  \n",
       "\n",
       "[87495 rows x 15 columns]"
      ]
     },
     "execution_count": 10,
     "metadata": {},
     "output_type": "execute_result"
    }
   ],
   "source": [
    "h1b_df"
   ]
  },
  {
   "cell_type": "code",
   "execution_count": 11,
   "id": "46b6a5c7",
   "metadata": {},
   "outputs": [
    {
     "data": {
      "text/plain": [
       "PW_AMOUNT_9089                     object\n",
       "JOB_INFO_EXPERIENCE_NUM_MONTHS    float64\n",
       "Year                                int64\n",
       "CASE_STATUS_I                        int8\n",
       "REFILE_I                             int8\n",
       "EMPLOYER_NAME_I                     int16\n",
       "EMPLOYER_STATE_I                    int16\n",
       "PW_SOC_TITLE_I                      int16\n",
       "PW_LEVEL_9089_I                      int8\n",
       "PW_UNIT_OF_PAY_9089_I                int8\n",
       "JOB_INFO_JOB_TITLE_I                int16\n",
       "JOB_INFO_EDUCATION_I                 int8\n",
       "JOB_INFO_EXPERIENCE_I                int8\n",
       "COUNTRY_OF_CITIZENSHIP_I            int16\n",
       "CLASS_OF_ADMISSION_I                 int8\n",
       "dtype: object"
      ]
     },
     "execution_count": 11,
     "metadata": {},
     "output_type": "execute_result"
    }
   ],
   "source": [
    "h1b_df.dtypes"
   ]
  },
  {
   "cell_type": "markdown",
   "id": "3f459aac",
   "metadata": {},
   "source": [
    "<b>Salary column as characters like \",\". Hence, eliminating the characters and converting the salary column from object to float type."
   ]
  },
  {
   "cell_type": "code",
   "execution_count": 12,
   "id": "8633b054",
   "metadata": {},
   "outputs": [],
   "source": [
    "h1b_df[\"PW_AMOUNT_9089\"] = h1b_df[\"PW_AMOUNT_9089\"].replace(',','', regex=True)\n",
    "h1b_df[\"PW_AMOUNT_9089\"] = h1b_df.PW_AMOUNT_9089.astype(float)"
   ]
  },
  {
   "cell_type": "code",
   "execution_count": 13,
   "id": "7aae8ce4",
   "metadata": {},
   "outputs": [
    {
     "data": {
      "text/plain": [
       "PW_AMOUNT_9089                    float64\n",
       "JOB_INFO_EXPERIENCE_NUM_MONTHS    float64\n",
       "Year                                int64\n",
       "CASE_STATUS_I                        int8\n",
       "REFILE_I                             int8\n",
       "EMPLOYER_NAME_I                     int16\n",
       "EMPLOYER_STATE_I                    int16\n",
       "PW_SOC_TITLE_I                      int16\n",
       "PW_LEVEL_9089_I                      int8\n",
       "PW_UNIT_OF_PAY_9089_I                int8\n",
       "JOB_INFO_JOB_TITLE_I                int16\n",
       "JOB_INFO_EDUCATION_I                 int8\n",
       "JOB_INFO_EXPERIENCE_I                int8\n",
       "COUNTRY_OF_CITIZENSHIP_I            int16\n",
       "CLASS_OF_ADMISSION_I                 int8\n",
       "dtype: object"
      ]
     },
     "execution_count": 13,
     "metadata": {},
     "output_type": "execute_result"
    }
   ],
   "source": [
    "h1b_df.dtypes"
   ]
  },
  {
   "cell_type": "markdown",
   "id": "7523c1b8",
   "metadata": {},
   "source": [
    "<b>Eliminating unnecessary columns"
   ]
  },
  {
   "cell_type": "code",
   "execution_count": 14,
   "id": "881f493c",
   "metadata": {},
   "outputs": [],
   "source": [
    "h1b_df.drop([\"Year\",\"REFILE_I\",\"PW_UNIT_OF_PAY_9089_I\",\"CLASS_OF_ADMISSION_I\",\"PW_SOC_TITLE_I\",\"JOB_INFO_EXPERIENCE_I\"],axis=1,inplace=True)"
   ]
  },
  {
   "cell_type": "code",
   "execution_count": 15,
   "id": "be19f027",
   "metadata": {},
   "outputs": [
    {
     "data": {
      "text/html": [
       "<div>\n",
       "<style scoped>\n",
       "    .dataframe tbody tr th:only-of-type {\n",
       "        vertical-align: middle;\n",
       "    }\n",
       "\n",
       "    .dataframe tbody tr th {\n",
       "        vertical-align: top;\n",
       "    }\n",
       "\n",
       "    .dataframe thead th {\n",
       "        text-align: right;\n",
       "    }\n",
       "</style>\n",
       "<table border=\"1\" class=\"dataframe\">\n",
       "  <thead>\n",
       "    <tr style=\"text-align: right;\">\n",
       "      <th></th>\n",
       "      <th>PW_AMOUNT_9089</th>\n",
       "      <th>JOB_INFO_EXPERIENCE_NUM_MONTHS</th>\n",
       "      <th>CASE_STATUS_I</th>\n",
       "      <th>EMPLOYER_NAME_I</th>\n",
       "      <th>EMPLOYER_STATE_I</th>\n",
       "      <th>PW_LEVEL_9089_I</th>\n",
       "      <th>JOB_INFO_JOB_TITLE_I</th>\n",
       "      <th>JOB_INFO_EDUCATION_I</th>\n",
       "      <th>COUNTRY_OF_CITIZENSHIP_I</th>\n",
       "    </tr>\n",
       "  </thead>\n",
       "  <tbody>\n",
       "    <tr>\n",
       "      <th>0</th>\n",
       "      <td>19.84</td>\n",
       "      <td>36.0</td>\n",
       "      <td>1</td>\n",
       "      <td>14417</td>\n",
       "      <td>74</td>\n",
       "      <td>0</td>\n",
       "      <td>10332</td>\n",
       "      <td>1</td>\n",
       "      <td>111</td>\n",
       "    </tr>\n",
       "    <tr>\n",
       "      <th>1</th>\n",
       "      <td>94598.00</td>\n",
       "      <td>24.0</td>\n",
       "      <td>1</td>\n",
       "      <td>13854</td>\n",
       "      <td>227</td>\n",
       "      <td>2</td>\n",
       "      <td>7587</td>\n",
       "      <td>1</td>\n",
       "      <td>65</td>\n",
       "    </tr>\n",
       "    <tr>\n",
       "      <th>4</th>\n",
       "      <td>100422.00</td>\n",
       "      <td>60.0</td>\n",
       "      <td>1</td>\n",
       "      <td>2667</td>\n",
       "      <td>74</td>\n",
       "      <td>3</td>\n",
       "      <td>17737</td>\n",
       "      <td>1</td>\n",
       "      <td>65</td>\n",
       "    </tr>\n",
       "    <tr>\n",
       "      <th>5</th>\n",
       "      <td>47611.00</td>\n",
       "      <td>12.0</td>\n",
       "      <td>1</td>\n",
       "      <td>5262</td>\n",
       "      <td>64</td>\n",
       "      <td>0</td>\n",
       "      <td>7970</td>\n",
       "      <td>1</td>\n",
       "      <td>125</td>\n",
       "    </tr>\n",
       "    <tr>\n",
       "      <th>6</th>\n",
       "      <td>51020.00</td>\n",
       "      <td>24.0</td>\n",
       "      <td>1</td>\n",
       "      <td>6416</td>\n",
       "      <td>212</td>\n",
       "      <td>0</td>\n",
       "      <td>5864</td>\n",
       "      <td>1</td>\n",
       "      <td>30</td>\n",
       "    </tr>\n",
       "    <tr>\n",
       "      <th>...</th>\n",
       "      <td>...</td>\n",
       "      <td>...</td>\n",
       "      <td>...</td>\n",
       "      <td>...</td>\n",
       "      <td>...</td>\n",
       "      <td>...</td>\n",
       "      <td>...</td>\n",
       "      <td>...</td>\n",
       "      <td>...</td>\n",
       "    </tr>\n",
       "    <tr>\n",
       "      <th>197811</th>\n",
       "      <td>95555.00</td>\n",
       "      <td>24.0</td>\n",
       "      <td>0</td>\n",
       "      <td>14562</td>\n",
       "      <td>90</td>\n",
       "      <td>2</td>\n",
       "      <td>4619</td>\n",
       "      <td>4</td>\n",
       "      <td>65</td>\n",
       "    </tr>\n",
       "    <tr>\n",
       "      <th>197814</th>\n",
       "      <td>93558.00</td>\n",
       "      <td>6.0</td>\n",
       "      <td>0</td>\n",
       "      <td>14530</td>\n",
       "      <td>274</td>\n",
       "      <td>1</td>\n",
       "      <td>18211</td>\n",
       "      <td>4</td>\n",
       "      <td>65</td>\n",
       "    </tr>\n",
       "    <tr>\n",
       "      <th>197815</th>\n",
       "      <td>95160.00</td>\n",
       "      <td>36.0</td>\n",
       "      <td>0</td>\n",
       "      <td>14551</td>\n",
       "      <td>130</td>\n",
       "      <td>2</td>\n",
       "      <td>8889</td>\n",
       "      <td>4</td>\n",
       "      <td>65</td>\n",
       "    </tr>\n",
       "    <tr>\n",
       "      <th>197816</th>\n",
       "      <td>143936.00</td>\n",
       "      <td>60.0</td>\n",
       "      <td>0</td>\n",
       "      <td>14788</td>\n",
       "      <td>227</td>\n",
       "      <td>3</td>\n",
       "      <td>18129</td>\n",
       "      <td>1</td>\n",
       "      <td>65</td>\n",
       "    </tr>\n",
       "    <tr>\n",
       "      <th>197818</th>\n",
       "      <td>143936.00</td>\n",
       "      <td>60.0</td>\n",
       "      <td>0</td>\n",
       "      <td>325</td>\n",
       "      <td>212</td>\n",
       "      <td>3</td>\n",
       "      <td>16669</td>\n",
       "      <td>1</td>\n",
       "      <td>65</td>\n",
       "    </tr>\n",
       "  </tbody>\n",
       "</table>\n",
       "<p>87495 rows × 9 columns</p>\n",
       "</div>"
      ],
      "text/plain": [
       "        PW_AMOUNT_9089  JOB_INFO_EXPERIENCE_NUM_MONTHS  CASE_STATUS_I  \\\n",
       "0                19.84                            36.0              1   \n",
       "1             94598.00                            24.0              1   \n",
       "4            100422.00                            60.0              1   \n",
       "5             47611.00                            12.0              1   \n",
       "6             51020.00                            24.0              1   \n",
       "...                ...                             ...            ...   \n",
       "197811        95555.00                            24.0              0   \n",
       "197814        93558.00                             6.0              0   \n",
       "197815        95160.00                            36.0              0   \n",
       "197816       143936.00                            60.0              0   \n",
       "197818       143936.00                            60.0              0   \n",
       "\n",
       "        EMPLOYER_NAME_I  EMPLOYER_STATE_I  PW_LEVEL_9089_I  \\\n",
       "0                 14417                74                0   \n",
       "1                 13854               227                2   \n",
       "4                  2667                74                3   \n",
       "5                  5262                64                0   \n",
       "6                  6416               212                0   \n",
       "...                 ...               ...              ...   \n",
       "197811            14562                90                2   \n",
       "197814            14530               274                1   \n",
       "197815            14551               130                2   \n",
       "197816            14788               227                3   \n",
       "197818              325               212                3   \n",
       "\n",
       "        JOB_INFO_JOB_TITLE_I  JOB_INFO_EDUCATION_I  COUNTRY_OF_CITIZENSHIP_I  \n",
       "0                      10332                     1                       111  \n",
       "1                       7587                     1                        65  \n",
       "4                      17737                     1                        65  \n",
       "5                       7970                     1                       125  \n",
       "6                       5864                     1                        30  \n",
       "...                      ...                   ...                       ...  \n",
       "197811                  4619                     4                        65  \n",
       "197814                 18211                     4                        65  \n",
       "197815                  8889                     4                        65  \n",
       "197816                 18129                     1                        65  \n",
       "197818                 16669                     1                        65  \n",
       "\n",
       "[87495 rows x 9 columns]"
      ]
     },
     "execution_count": 15,
     "metadata": {},
     "output_type": "execute_result"
    }
   ],
   "source": [
    "h1b_df"
   ]
  },
  {
   "cell_type": "markdown",
   "id": "026261bb",
   "metadata": {},
   "source": [
    "<h2> Finding Pearson correlation"
   ]
  },
  {
   "cell_type": "code",
   "execution_count": 16,
   "id": "0ac931fa",
   "metadata": {
    "scrolled": false
   },
   "outputs": [
    {
     "data": {
      "image/png": "[encoded data removed]",
      "text/plain": [
       "<Figure size 1800x1080 with 2 Axes>"
      ]
     },
     "metadata": {
      "needs_background": "light"
     },
     "output_type": "display_data"
    }
   ],
   "source": [
    "corr_Pearson = h1b_df.corr(method='pearson')\n",
    "\n",
    "figure = plt.figure(figsize=(25,15))\n",
    "sns.heatmap(corr_Pearson,vmin=-1,vmax=+1,cmap='Oranges',annot=True, \n",
    "            linewidths=2,linecolor = 'black')\n",
    "plt.title('Pearson Correlation')\n",
    "plt.show()"
   ]
  },
  {
   "cell_type": "markdown",
   "id": "7faff18f",
   "metadata": {},
   "source": [
    "The target variable case status is positively correlated with attributes such as Annual Income while negatively correlated with Experience and Level. It can be understood from the plot that the chance of H1B approval decrease as the years pass by since there are only 3 chances (3 years)"
   ]
  },
  {
   "cell_type": "markdown",
   "id": "0703d66e",
   "metadata": {},
   "source": [
    "<h2> Train Test Split"
   ]
  },
  {
   "cell_type": "code",
   "execution_count": 17,
   "id": "973c7173",
   "metadata": {},
   "outputs": [],
   "source": [
    "data_y = h1b_df['CASE_STATUS_I']\n",
    "data_x = h1b_df.drop(labels=['CASE_STATUS_I'], axis=1, inplace=False)\n",
    "x_train, x_test, y_train, y_test = train_test_split(data_x,data_y,test_size = 0.3, random_state = 102,shuffle = True)"
   ]
  },
  {
   "cell_type": "markdown",
   "id": "da95ced2",
   "metadata": {},
   "source": [
    "<h2>Using Standard Scalar"
   ]
  },
  {
   "cell_type": "code",
   "execution_count": 18,
   "id": "824ce249",
   "metadata": {},
   "outputs": [],
   "source": [
    "from sklearn.preprocessing import StandardScaler\n",
    "sc_x=StandardScaler()\n",
    "x_train=sc_x.fit_transform(x_train)\n",
    "x_test=sc_x.transform(x_test)"
   ]
  },
  {
   "cell_type": "markdown",
   "id": "61af4e3b",
   "metadata": {},
   "source": [
    "<h2>Linear Discriminant Analysis"
   ]
  },
  {
   "cell_type": "code",
   "execution_count": 19,
   "id": "a973bb05",
   "metadata": {},
   "outputs": [
    {
     "data": {
      "text/plain": [
       "LinearDiscriminantAnalysis()"
      ]
     },
     "execution_count": 19,
     "metadata": {},
     "output_type": "execute_result"
    }
   ],
   "source": [
    "from sklearn.model_selection import cross_val_score\n",
    "from sklearn.discriminant_analysis import LinearDiscriminantAnalysis \n",
    "from sklearn.model_selection import RepeatedStratifiedKFold\n",
    "model = LinearDiscriminantAnalysis()\n",
    "model.fit(x_train,y_train)"
   ]
  },
  {
   "cell_type": "code",
   "execution_count": 20,
   "id": "56ece600",
   "metadata": {},
   "outputs": [
    {
     "data": {
      "text/plain": [
       "array([[21274,     0],\n",
       "       [ 4975,     0]], dtype=int64)"
      ]
     },
     "execution_count": 20,
     "metadata": {},
     "output_type": "execute_result"
    }
   ],
   "source": [
    "y_pred=model.predict(x_test)\n",
    "cm = confusion_matrix(y_test,y_pred)\n",
    "cm"
   ]
  },
  {
   "cell_type": "code",
   "execution_count": 21,
   "id": "cf929d93",
   "metadata": {},
   "outputs": [
    {
     "name": "stdout",
     "output_type": "stream",
     "text": [
      "Accuracy Score: 0.8104689702464856\n"
     ]
    }
   ],
   "source": [
    "from sklearn.metrics import accuracy_score\n",
    "print(\"Accuracy Score:\",accuracy_score(y_test,y_pred))"
   ]
  },
  {
   "cell_type": "markdown",
   "id": "c8ae0476",
   "metadata": {},
   "source": [
    "<b>Accuracy score for LDA is 81.05%"
   ]
  },
  {
   "cell_type": "code",
   "execution_count": 22,
   "id": "ec4589ac",
   "metadata": {},
   "outputs": [
    {
     "name": "stdout",
     "output_type": "stream",
     "text": [
      "              precision    recall  f1-score   support\n",
      "\n",
      "           0       0.81      1.00      0.90     21274\n",
      "           1       0.00      0.00      0.00      4975\n",
      "\n",
      "    accuracy                           0.81     26249\n",
      "   macro avg       0.41      0.50      0.45     26249\n",
      "weighted avg       0.66      0.81      0.73     26249\n",
      "\n"
     ]
    },
    {
     "name": "stderr",
     "output_type": "stream",
     "text": [
      "c:\\users\\rohith ram\\appdata\\local\\programs\\python\\python39\\lib\\site-packages\\sklearn\\metrics\\_classification.py:1248: UndefinedMetricWarning: Precision and F-score are ill-defined and being set to 0.0 in labels with no predicted samples. Use `zero_division` parameter to control this behavior.\n",
      "  _warn_prf(average, modifier, msg_start, len(result))\n",
      "c:\\users\\rohith ram\\appdata\\local\\programs\\python\\python39\\lib\\site-packages\\sklearn\\metrics\\_classification.py:1248: UndefinedMetricWarning: Precision and F-score are ill-defined and being set to 0.0 in labels with no predicted samples. Use `zero_division` parameter to control this behavior.\n",
      "  _warn_prf(average, modifier, msg_start, len(result))\n",
      "c:\\users\\rohith ram\\appdata\\local\\programs\\python\\python39\\lib\\site-packages\\sklearn\\metrics\\_classification.py:1248: UndefinedMetricWarning: Precision and F-score are ill-defined and being set to 0.0 in labels with no predicted samples. Use `zero_division` parameter to control this behavior.\n",
      "  _warn_prf(average, modifier, msg_start, len(result))\n"
     ]
    }
   ],
   "source": [
    "print(classification_report(y_test,y_pred))"
   ]
  },
  {
   "cell_type": "markdown",
   "id": "b84485d4",
   "metadata": {},
   "source": [
    "<h2> Gaussian Naive Bayes"
   ]
  },
  {
   "cell_type": "code",
   "execution_count": 23,
   "id": "d7d09e79",
   "metadata": {},
   "outputs": [
    {
     "data": {
      "text/plain": [
       "GaussianNB()"
      ]
     },
     "execution_count": 23,
     "metadata": {},
     "output_type": "execute_result"
    }
   ],
   "source": [
    "from sklearn.naive_bayes import GaussianNB\n",
    "gb=GaussianNB()\n",
    "gb.fit(x_train,y_train)"
   ]
  },
  {
   "cell_type": "code",
   "execution_count": 24,
   "id": "0776c3d5",
   "metadata": {},
   "outputs": [
    {
     "data": {
      "text/plain": [
       "array([0, 0, 0, ..., 0, 0, 0], dtype=int8)"
      ]
     },
     "execution_count": 24,
     "metadata": {},
     "output_type": "execute_result"
    }
   ],
   "source": [
    "y_pred=gb.predict(x_test)\n",
    "y_pred"
   ]
  },
  {
   "cell_type": "code",
   "execution_count": 25,
   "id": "3b1873ec",
   "metadata": {},
   "outputs": [
    {
     "data": {
      "text/plain": [
       "array([[20825,   449],\n",
       "       [ 4860,   115]], dtype=int64)"
      ]
     },
     "execution_count": 25,
     "metadata": {},
     "output_type": "execute_result"
    }
   ],
   "source": [
    "cm = confusion_matrix(y_test,y_pred)\n",
    "cm"
   ]
  },
  {
   "cell_type": "code",
   "execution_count": 26,
   "id": "6b6ef99c",
   "metadata": {},
   "outputs": [
    {
     "name": "stdout",
     "output_type": "stream",
     "text": [
      "Accuracy Score: 0.7977446759876566\n"
     ]
    }
   ],
   "source": [
    "from sklearn.metrics import accuracy_score\n",
    "print(\"Accuracy Score:\",accuracy_score(y_test,y_pred))"
   ]
  },
  {
   "cell_type": "markdown",
   "id": "afafe4b6",
   "metadata": {},
   "source": [
    "<b>Accuracy score for Gaussian NB is 79.77%"
   ]
  },
  {
   "cell_type": "code",
   "execution_count": 27,
   "id": "4464b593",
   "metadata": {},
   "outputs": [
    {
     "name": "stdout",
     "output_type": "stream",
     "text": [
      "              precision    recall  f1-score   support\n",
      "\n",
      "           0       0.81      0.98      0.89     21274\n",
      "           1       0.20      0.02      0.04      4975\n",
      "\n",
      "    accuracy                           0.80     26249\n",
      "   macro avg       0.51      0.50      0.46     26249\n",
      "weighted avg       0.70      0.80      0.73     26249\n",
      "\n"
     ]
    }
   ],
   "source": [
    "print(classification_report(y_test,y_pred))"
   ]
  },
  {
   "cell_type": "markdown",
   "id": "d467834c",
   "metadata": {},
   "source": [
    "<h2> KNeighbors Classifier"
   ]
  },
  {
   "cell_type": "code",
   "execution_count": 28,
   "id": "528f803a",
   "metadata": {},
   "outputs": [],
   "source": [
    "from sklearn.neighbors import KNeighborsClassifier\n",
    "from sklearn.metrics import confusion_matrix,f1_score,accuracy_score"
   ]
  },
  {
   "cell_type": "markdown",
   "id": "33db4254",
   "metadata": {},
   "source": [
    "<b>Implementing Grid Search"
   ]
  },
  {
   "cell_type": "code",
   "execution_count": 38,
   "id": "607d9caf",
   "metadata": {},
   "outputs": [],
   "source": [
    "# vals=[]\n",
    "# neigh=[]\n",
    "# for i in range(3,10):\n",
    "#     neigh.append(i)\n",
    "#     classifier = KNeighborsClassifier(n_neighbors = i, p =2, metric=\"euclidean\")\n",
    "#     classifier.fit(x_train,y_train)\n",
    "#     y_pred = classifier.predict(x_test)\n",
    "#     vals.append(accuracy_score(y_test,y_pred))\n",
    "# plt.plot(neigh,vals)\n",
    "# avg_acc=sum(vals)/len(vals)"
   ]
  },
  {
   "cell_type": "code",
   "execution_count": 29,
   "id": "a1196d08",
   "metadata": {
    "scrolled": true
   },
   "outputs": [
    {
     "name": "stdout",
     "output_type": "stream",
     "text": [
      "[0 0 0 ... 0 0 0]\n"
     ]
    },
    {
     "data": {
      "text/plain": [
       "array([[20110,  1164],\n",
       "       [ 3902,  1073]], dtype=int64)"
      ]
     },
     "execution_count": 29,
     "metadata": {},
     "output_type": "execute_result"
    }
   ],
   "source": [
    "classifier = KNeighborsClassifier(n_neighbors = 5, p =2, metric=\"euclidean\")\n",
    "classifier.fit(x_train,y_train)\n",
    "y_pred = classifier.predict(x_test)\n",
    "cm = confusion_matrix(y_test,y_pred)\n",
    "cm"
   ]
  },
  {
   "cell_type": "code",
   "execution_count": 30,
   "id": "ea5c30f5",
   "metadata": {
    "scrolled": true
   },
   "outputs": [
    {
     "name": "stdout",
     "output_type": "stream",
     "text": [
      "Accuracy Score: 0.8070021715112957\n"
     ]
    }
   ],
   "source": [
    "print(\"Accuracy Score:\",accuracy_score(y_test,y_pred))"
   ]
  },
  {
   "cell_type": "markdown",
   "id": "cae4eeb7",
   "metadata": {},
   "source": [
    "<b>Accuracy score for KNeighbors Classifier is 80.70%"
   ]
  },
  {
   "cell_type": "code",
   "execution_count": 31,
   "id": "43c03158",
   "metadata": {},
   "outputs": [
    {
     "name": "stdout",
     "output_type": "stream",
     "text": [
      "              precision    recall  f1-score   support\n",
      "\n",
      "           0       0.84      0.95      0.89     21274\n",
      "           1       0.48      0.22      0.30      4975\n",
      "\n",
      "    accuracy                           0.81     26249\n",
      "   macro avg       0.66      0.58      0.59     26249\n",
      "weighted avg       0.77      0.81      0.78     26249\n",
      "\n"
     ]
    }
   ],
   "source": [
    "print(classification_report(y_test,y_pred))"
   ]
  },
  {
   "cell_type": "markdown",
   "id": "7323cd82",
   "metadata": {},
   "source": [
    "<h2> Random Forest Classifier"
   ]
  },
  {
   "cell_type": "code",
   "execution_count": 32,
   "id": "cd9f2c3c",
   "metadata": {},
   "outputs": [],
   "source": [
    "from sklearn.ensemble import RandomForestClassifier\n",
    "\n",
    "clf=RandomForestClassifier(n_estimators=50)\n",
    "\n",
    "clf.fit(x_train,y_train)\n",
    "\n",
    "y_pred=clf.predict(x_test)\n"
   ]
  },
  {
   "cell_type": "code",
   "execution_count": 33,
   "id": "dafd6746",
   "metadata": {
    "scrolled": true
   },
   "outputs": [
    {
     "name": "stdout",
     "output_type": "stream",
     "text": [
      "Accuracy Score: 0.8294030248771381\n"
     ]
    }
   ],
   "source": [
    "print(\"Accuracy Score:\",accuracy_score(y_test,y_pred))"
   ]
  },
  {
   "cell_type": "markdown",
   "id": "fa63da7e",
   "metadata": {},
   "source": [
    "<b>Accuracy score for Random Forest Classifier is 82.91% "
   ]
  },
  {
   "cell_type": "code",
   "execution_count": 34,
   "id": "f4352f24",
   "metadata": {
    "scrolled": true
   },
   "outputs": [
    {
     "name": "stdout",
     "output_type": "stream",
     "text": [
      "              precision    recall  f1-score   support\n",
      "\n",
      "           0       0.85      0.96      0.90     21274\n",
      "           1       0.62      0.25      0.36      4975\n",
      "\n",
      "    accuracy                           0.83     26249\n",
      "   macro avg       0.73      0.61      0.63     26249\n",
      "weighted avg       0.80      0.83      0.80     26249\n",
      "\n"
     ]
    }
   ],
   "source": [
    "print(classification_report(y_test,y_pred))"
   ]
  },
  {
   "cell_type": "markdown",
   "id": "bb313ce9",
   "metadata": {},
   "source": [
    "<h2> SVM"
   ]
  },
  {
   "cell_type": "code",
   "execution_count": 35,
   "id": "78b8c7b6",
   "metadata": {},
   "outputs": [
    {
     "name": "stdout",
     "output_type": "stream",
     "text": [
      "0.8104689702464856\n"
     ]
    }
   ],
   "source": [
    "from sklearn.svm import SVC\n",
    "from sklearn.metrics import accuracy_score\n",
    "\n",
    "clf = SVC(kernel='linear')\n",
    "clf.fit(x_train,y_train)\n",
    "y_pred = clf.predict(x_test)\n",
    "print(accuracy_score(y_test,y_pred))"
   ]
  },
  {
   "cell_type": "code",
   "execution_count": 36,
   "id": "7793949d",
   "metadata": {},
   "outputs": [
    {
     "name": "stdout",
     "output_type": "stream",
     "text": [
      "              precision    recall  f1-score   support\n",
      "\n",
      "           0       0.81      1.00      0.90     21274\n",
      "           1       0.00      0.00      0.00      4975\n",
      "\n",
      "    accuracy                           0.81     26249\n",
      "   macro avg       0.41      0.50      0.45     26249\n",
      "weighted avg       0.66      0.81      0.73     26249\n",
      "\n"
     ]
    },
    {
     "name": "stderr",
     "output_type": "stream",
     "text": [
      "c:\\users\\rohith ram\\appdata\\local\\programs\\python\\python39\\lib\\site-packages\\sklearn\\metrics\\_classification.py:1248: UndefinedMetricWarning: Precision and F-score are ill-defined and being set to 0.0 in labels with no predicted samples. Use `zero_division` parameter to control this behavior.\n",
      "  _warn_prf(average, modifier, msg_start, len(result))\n",
      "c:\\users\\rohith ram\\appdata\\local\\programs\\python\\python39\\lib\\site-packages\\sklearn\\metrics\\_classification.py:1248: UndefinedMetricWarning: Precision and F-score are ill-defined and being set to 0.0 in labels with no predicted samples. Use `zero_division` parameter to control this behavior.\n",
      "  _warn_prf(average, modifier, msg_start, len(result))\n",
      "c:\\users\\rohith ram\\appdata\\local\\programs\\python\\python39\\lib\\site-packages\\sklearn\\metrics\\_classification.py:1248: UndefinedMetricWarning: Precision and F-score are ill-defined and being set to 0.0 in labels with no predicted samples. Use `zero_division` parameter to control this behavior.\n",
      "  _warn_prf(average, modifier, msg_start, len(result))\n"
     ]
    }
   ],
   "source": [
    "print(classification_report(y_test,y_pred))"
   ]
  },
  {
   "cell_type": "code",
   "execution_count": null,
   "id": "809136d7",
   "metadata": {},
   "outputs": [],
   "source": []
  }
 ],
 "metadata": {
  "kernelspec": {
   "display_name": "Python 3 (ipykernel)",
   "language": "python",
   "name": "python3"
  },
  "language_info": {
   "codemirror_mode": {
    "name": "ipython",
    "version": 3
   },
   "file_extension": ".py",
   "mimetype": "text/x-python",
   "name": "python",
   "nbconvert_exporter": "python",
   "pygments_lexer": "ipython3",
   "version": "3.9.6"
  }
 },
 "nbformat": 4,
 "nbformat_minor": 5
}
