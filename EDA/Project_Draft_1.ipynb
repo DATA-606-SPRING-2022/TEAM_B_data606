{
 "cells": [
  {
   "cell_type": "markdown",
   "id": "143755f5",
   "metadata": {},
   "source": [
    "<h1><center> H1B Case Status Analysis"
   ]
  },
  {
   "cell_type": "markdown",
   "id": "97a04db4",
   "metadata": {},
   "source": [
    "<b> Importing necessary packages"
   ]
  },
  {
   "cell_type": "code",
   "execution_count": 158,
   "id": "22076bbd",
   "metadata": {},
   "outputs": [],
   "source": [
    "import pandas as pd\n",
    "import numpy as np\n",
    "import plotly.express as px\n",
    "from plotly.subplots import make_subplots\n",
    "import plotly.graph_objects as go"
   ]
  },
  {
   "cell_type": "markdown",
   "id": "9eef4b9c",
   "metadata": {},
   "source": [
    "<b>Converting excel files into dataframes"
   ]
  },
  {
   "cell_type": "code",
   "execution_count": 122,
   "id": "b4d5b73d",
   "metadata": {},
   "outputs": [],
   "source": [
    "df2017 = pd.read_excel(\"H1B_Disclosure_Data_FY17.xlsx\")"
   ]
  },
  {
   "cell_type": "code",
   "execution_count": 123,
   "id": "faf7f443",
   "metadata": {},
   "outputs": [],
   "source": [
    "df2018 = pd.read_excel(\"H1B_Disclosure_Data_FY18.xlsx\")"
   ]
  },
  {
   "cell_type": "code",
   "execution_count": 124,
   "id": "31787211",
   "metadata": {},
   "outputs": [],
   "source": [
    "df2019 = pd.read_excel(\"H1B_Disclosure_Data_FY19.xlsx\")"
   ]
  },
  {
   "cell_type": "code",
   "execution_count": 125,
   "id": "ed9126aa",
   "metadata": {},
   "outputs": [],
   "source": [
    "df2020 = pd.read_excel(\"H1B_Disclosure_Data_FY20.xlsx\")"
   ]
  },
  {
   "cell_type": "code",
   "execution_count": 126,
   "id": "167aa7b9",
   "metadata": {},
   "outputs": [],
   "source": [
    "df2021 = pd.read_excel(\"H1B_Disclosure_Data_FY21.xlsx\")"
   ]
  },
  {
   "cell_type": "markdown",
   "id": "c64a8fcc",
   "metadata": {},
   "source": [
    "<h2> Exploratory Data Analysis"
   ]
  },
  {
   "cell_type": "code",
   "execution_count": 127,
   "id": "d7a1680c",
   "metadata": {
    "scrolled": false
   },
   "outputs": [
    {
     "name": "stdout",
     "output_type": "stream",
     "text": [
      "(97603, 125)\n",
      "(108605, 125)\n",
      "(102655, 125)\n",
      "(94019, 154)\n",
      "(108264, 154)\n"
     ]
    }
   ],
   "source": [
    "print(df2017.shape)\n",
    "print(df2018.shape)\n",
    "print(df2019.shape)\n",
    "print(df2020.shape)\n",
    "print(df2021.shape)"
   ]
  },
  {
   "cell_type": "markdown",
   "id": "2e2b026e",
   "metadata": {},
   "source": [
    "<b> Extracting the required information from the data frame and concatinating dataframes of all years"
   ]
  },
  {
   "cell_type": "markdown",
   "id": "76cb8229",
   "metadata": {},
   "source": [
    "For every case filed, there are personal information such as employee_name, employee_address etc which are sensitive. Also, this data isn't necessary to analyze the data and implement a machine learning model. Hence, following data ethics, the columns containing sensitive information is not being considered. Required data is being extracted from the raw dataframe. "
   ]
  },
  {
   "cell_type": "code",
   "execution_count": 128,
   "id": "14311160",
   "metadata": {},
   "outputs": [],
   "source": [
    "df17=df2017[[\"CASE_NUMBER\",\"DECISION_DATE\",\n",
    " 'CASE_STATUS','REFILE','EMPLOYER_NAME','EMPLOYER_STATE','PW_SOC_TITLE','PW_LEVEL_9089','PW_AMOUNT_9089','PW_UNIT_OF_PAY_9089','JOB_INFO_JOB_TITLE',\n",
    " 'JOB_INFO_EDUCATION','JOB_INFO_EXPERIENCE',\n",
    " 'JOB_INFO_EXPERIENCE_NUM_MONTHS','COUNTRY_OF_CITIZENSHIP','CLASS_OF_ADMISSION']]\n",
    "df18=df2018[[\"CASE_NUMBER\",\"DECISION_DATE\",\n",
    " 'CASE_STATUS','REFILE','EMPLOYER_NAME','EMPLOYER_STATE','PW_SOC_TITLE','PW_LEVEL_9089','PW_AMOUNT_9089','PW_UNIT_OF_PAY_9089','JOB_INFO_JOB_TITLE',\n",
    " 'JOB_INFO_EDUCATION','JOB_INFO_EXPERIENCE',\n",
    " 'JOB_INFO_EXPERIENCE_NUM_MONTHS','COUNTRY_OF_CITIZENSHIP','CLASS_OF_ADMISSION']]\n",
    "df19=df2019[[\"CASE_NUMBER\",\"DECISION_DATE\",\n",
    " 'CASE_STATUS','REFILE','EMPLOYER_NAME','EMPLOYER_STATE','PW_SOC_TITLE','PW_LEVEL_9089','PW_AMOUNT_9089','PW_UNIT_OF_PAY_9089','JOB_INFO_JOB_TITLE',\n",
    " 'JOB_INFO_EDUCATION','JOB_INFO_EXPERIENCE',\n",
    " 'JOB_INFO_EXPERIENCE_NUM_MONTHS','COUNTRY_OF_CITIZENSHIP','CLASS_OF_ADMISSION']]\n",
    "df20=df2020[[\"CASE_NUMBER\",\"DECISION_DATE\",\n",
    " 'CASE_STATUS','REFILE','EMPLOYER_NAME','EMPLOYER_STATE_PROVINCE','PW_SOC_TITLE','PW_SKILL_LEVEL','PW_WAGE','PW_UNIT_OF_PAY','JOB_TITLE',\n",
    " 'MINIMUM_EDUCATION','REQUIRED_EXPERIENCE',\n",
    " 'REQUIRED_EXPERIENCE_MONTHS','COUNTRY_OF_CITIZENSHIP','CLASS_OF_ADMISSION']]\n",
    "df21=df2021[[\"CASE_NUMBER\",\"DECISION_DATE\",\n",
    " 'CASE_STATUS','REFILE','EMPLOYER_NAME','EMPLOYER_STATE_PROVINCE','PW_SOC_TITLE','PW_SKILL_LEVEL','PW_WAGE','PW_UNIT_OF_PAY','JOB_TITLE',\n",
    " 'MINIMUM_EDUCATION','REQUIRED_EXPERIENCE',\n",
    " 'REQUIRED_EXPERIENCE_MONTHS','COUNTRY_OF_CITIZENSHIP','CLASS_OF_ADMISSION']]"
   ]
  },
  {
   "cell_type": "markdown",
   "id": "398894fc",
   "metadata": {},
   "source": [
    "Appending the data of difference years to have a holistic dataframe for 5 years "
   ]
  },
  {
   "cell_type": "code",
   "execution_count": 129,
   "id": "1a15a70e",
   "metadata": {},
   "outputs": [],
   "source": [
    "df20.columns = df19.columns\n",
    "df21.columns = df19.columns\n",
    "dfa=df17.append(df18, ignore_index = True)\n",
    "dfb=dfa.append(df19, ignore_index = True)\n",
    "dfc=dfb.append(df20, ignore_index = True)\n",
    "h1b_df=dfc.append(df21, ignore_index = True)"
   ]
  },
  {
   "cell_type": "code",
   "execution_count": 131,
   "id": "5c257d52",
   "metadata": {},
   "outputs": [
    {
     "data": {
      "text/plain": [
       "(511146, 16)"
      ]
     },
     "execution_count": 131,
     "metadata": {},
     "output_type": "execute_result"
    }
   ],
   "source": [
    "h1b_df.shape"
   ]
  },
  {
   "cell_type": "markdown",
   "id": "cce036a5",
   "metadata": {},
   "source": [
    "<b>Required Data of 5 years"
   ]
  },
  {
   "cell_type": "code",
   "execution_count": 132,
   "id": "0ed4620c",
   "metadata": {
    "scrolled": true
   },
   "outputs": [
    {
     "data": {
      "text/html": [
       "<div>\n",
       "<style scoped>\n",
       "    .dataframe tbody tr th:only-of-type {\n",
       "        vertical-align: middle;\n",
       "    }\n",
       "\n",
       "    .dataframe tbody tr th {\n",
       "        vertical-align: top;\n",
       "    }\n",
       "\n",
       "    .dataframe thead th {\n",
       "        text-align: right;\n",
       "    }\n",
       "</style>\n",
       "<table border=\"1\" class=\"dataframe\">\n",
       "  <thead>\n",
       "    <tr style=\"text-align: right;\">\n",
       "      <th></th>\n",
       "      <th>CASE_NUMBER</th>\n",
       "      <th>DECISION_DATE</th>\n",
       "      <th>CASE_STATUS</th>\n",
       "      <th>REFILE</th>\n",
       "      <th>EMPLOYER_NAME</th>\n",
       "      <th>EMPLOYER_STATE</th>\n",
       "      <th>PW_SOC_TITLE</th>\n",
       "      <th>PW_LEVEL_9089</th>\n",
       "      <th>PW_AMOUNT_9089</th>\n",
       "      <th>PW_UNIT_OF_PAY_9089</th>\n",
       "      <th>JOB_INFO_JOB_TITLE</th>\n",
       "      <th>JOB_INFO_EDUCATION</th>\n",
       "      <th>JOB_INFO_EXPERIENCE</th>\n",
       "      <th>JOB_INFO_EXPERIENCE_NUM_MONTHS</th>\n",
       "      <th>COUNTRY_OF_CITIZENSHIP</th>\n",
       "      <th>CLASS_OF_ADMISSION</th>\n",
       "    </tr>\n",
       "  </thead>\n",
       "  <tbody>\n",
       "    <tr>\n",
       "      <th>0</th>\n",
       "      <td>A-16243-47818</td>\n",
       "      <td>2016-10-03</td>\n",
       "      <td>Withdrawn</td>\n",
       "      <td>N</td>\n",
       "      <td>XAVIENT INFORMATION SYSTEMS</td>\n",
       "      <td>CA</td>\n",
       "      <td>Software Developers, Applications</td>\n",
       "      <td>Level IV</td>\n",
       "      <td>119,683.00</td>\n",
       "      <td>Year</td>\n",
       "      <td>Sr. Automation Test Engineer</td>\n",
       "      <td>Master's</td>\n",
       "      <td>Y</td>\n",
       "      <td>36.0</td>\n",
       "      <td>INDIA</td>\n",
       "      <td>H-1B</td>\n",
       "    </tr>\n",
       "    <tr>\n",
       "      <th>1</th>\n",
       "      <td>A-16274-58094</td>\n",
       "      <td>2016-10-03</td>\n",
       "      <td>Withdrawn</td>\n",
       "      <td>N</td>\n",
       "      <td>MARVELL SEMICONDUCTOR INC</td>\n",
       "      <td>CA</td>\n",
       "      <td>Electronics Engineers, Except Computer</td>\n",
       "      <td>NaN</td>\n",
       "      <td>89,150.00</td>\n",
       "      <td>Year</td>\n",
       "      <td>Digital Design Engineer</td>\n",
       "      <td>Master's</td>\n",
       "      <td>N</td>\n",
       "      <td>NaN</td>\n",
       "      <td>CHINA</td>\n",
       "      <td>H-1B</td>\n",
       "    </tr>\n",
       "    <tr>\n",
       "      <th>2</th>\n",
       "      <td>A-16273-57601</td>\n",
       "      <td>2016-10-03</td>\n",
       "      <td>Withdrawn</td>\n",
       "      <td>N</td>\n",
       "      <td>MUY BRANDS, LLC</td>\n",
       "      <td>TX</td>\n",
       "      <td>Combined Food Preparation and Serving Workers,...</td>\n",
       "      <td>Level I</td>\n",
       "      <td>18,262.00</td>\n",
       "      <td>Year</td>\n",
       "      <td>Food Service Worker</td>\n",
       "      <td>None</td>\n",
       "      <td>N</td>\n",
       "      <td>NaN</td>\n",
       "      <td>SOUTH KOREA</td>\n",
       "      <td>NaN</td>\n",
       "    </tr>\n",
       "    <tr>\n",
       "      <th>3</th>\n",
       "      <td>A-16271-56548</td>\n",
       "      <td>2016-10-03</td>\n",
       "      <td>Withdrawn</td>\n",
       "      <td>N</td>\n",
       "      <td>CORPORATE COMPUTER SERVICES INC</td>\n",
       "      <td>MI</td>\n",
       "      <td>Software Developers, Applications</td>\n",
       "      <td>Level III</td>\n",
       "      <td>85,883.00</td>\n",
       "      <td>Year</td>\n",
       "      <td>Business Analyst</td>\n",
       "      <td>Master's</td>\n",
       "      <td>Y</td>\n",
       "      <td>6.0</td>\n",
       "      <td>INDIA</td>\n",
       "      <td>H-1B</td>\n",
       "    </tr>\n",
       "    <tr>\n",
       "      <th>4</th>\n",
       "      <td>A-16209-36199</td>\n",
       "      <td>2016-10-03</td>\n",
       "      <td>Withdrawn</td>\n",
       "      <td>N</td>\n",
       "      <td>SEVEN SEAS TECHNOLOGIES, INC.</td>\n",
       "      <td>MO</td>\n",
       "      <td>Software Developers, Applications</td>\n",
       "      <td>Level III</td>\n",
       "      <td>66,706.00</td>\n",
       "      <td>Year</td>\n",
       "      <td>Sr. Programmer Analyst</td>\n",
       "      <td>Master's</td>\n",
       "      <td>Y</td>\n",
       "      <td>24.0</td>\n",
       "      <td>INDIA</td>\n",
       "      <td>H-1B</td>\n",
       "    </tr>\n",
       "    <tr>\n",
       "      <th>...</th>\n",
       "      <td>...</td>\n",
       "      <td>...</td>\n",
       "      <td>...</td>\n",
       "      <td>...</td>\n",
       "      <td>...</td>\n",
       "      <td>...</td>\n",
       "      <td>...</td>\n",
       "      <td>...</td>\n",
       "      <td>...</td>\n",
       "      <td>...</td>\n",
       "      <td>...</td>\n",
       "      <td>...</td>\n",
       "      <td>...</td>\n",
       "      <td>...</td>\n",
       "      <td>...</td>\n",
       "      <td>...</td>\n",
       "    </tr>\n",
       "    <tr>\n",
       "      <th>511141</th>\n",
       "      <td>A-21260-45966</td>\n",
       "      <td>2021-09-30</td>\n",
       "      <td>Certified</td>\n",
       "      <td>N</td>\n",
       "      <td>KENNEDY INTERNATIONAL SOFTWARE INC</td>\n",
       "      <td>TEXAS</td>\n",
       "      <td>Computer Systems Analysts</td>\n",
       "      <td>Level III</td>\n",
       "      <td>119538.0</td>\n",
       "      <td>Year</td>\n",
       "      <td>SOFTWARE DEVELOPER</td>\n",
       "      <td>Master's</td>\n",
       "      <td>N</td>\n",
       "      <td>NaN</td>\n",
       "      <td>INDIA</td>\n",
       "      <td>H-1B</td>\n",
       "    </tr>\n",
       "    <tr>\n",
       "      <th>511142</th>\n",
       "      <td>A-21263-47053</td>\n",
       "      <td>2021-09-30</td>\n",
       "      <td>Certified</td>\n",
       "      <td>N</td>\n",
       "      <td>QUALCOMM TECHNOLOGIES INC.</td>\n",
       "      <td>CALIFORNIA</td>\n",
       "      <td>Electronics Engineers, Except Computer</td>\n",
       "      <td>Level II</td>\n",
       "      <td>124176.0</td>\n",
       "      <td>Year</td>\n",
       "      <td>Senior Multimedia Systems Engineer</td>\n",
       "      <td>Master's</td>\n",
       "      <td>N</td>\n",
       "      <td>NaN</td>\n",
       "      <td>INDIA</td>\n",
       "      <td>H-1B</td>\n",
       "    </tr>\n",
       "    <tr>\n",
       "      <th>511143</th>\n",
       "      <td>A-21267-49657</td>\n",
       "      <td>2021-09-30</td>\n",
       "      <td>Certified</td>\n",
       "      <td>N</td>\n",
       "      <td>ECO BIO LLC</td>\n",
       "      <td>ARKANSAS</td>\n",
       "      <td>Veterinarian</td>\n",
       "      <td>Level I</td>\n",
       "      <td>101504.0</td>\n",
       "      <td>Year</td>\n",
       "      <td>Veterinarian</td>\n",
       "      <td>Other</td>\n",
       "      <td>N</td>\n",
       "      <td>NaN</td>\n",
       "      <td>MEXICO</td>\n",
       "      <td>TN</td>\n",
       "    </tr>\n",
       "    <tr>\n",
       "      <th>511144</th>\n",
       "      <td>A-21268-49885</td>\n",
       "      <td>2021-09-30</td>\n",
       "      <td>Certified</td>\n",
       "      <td>N</td>\n",
       "      <td>Durham Dance Center, Inc</td>\n",
       "      <td>NORTH CAROLINA</td>\n",
       "      <td>Studio Dance Director</td>\n",
       "      <td>Level II</td>\n",
       "      <td>50648.0</td>\n",
       "      <td>Year</td>\n",
       "      <td>Studio Dance Director</td>\n",
       "      <td>Bachelor's</td>\n",
       "      <td>N</td>\n",
       "      <td>NaN</td>\n",
       "      <td>UKRAINE</td>\n",
       "      <td>O-1</td>\n",
       "    </tr>\n",
       "    <tr>\n",
       "      <th>511145</th>\n",
       "      <td>A-21270-50634</td>\n",
       "      <td>2021-09-30</td>\n",
       "      <td>Certified</td>\n",
       "      <td>N</td>\n",
       "      <td>ADAEQUARE INC</td>\n",
       "      <td>VIRGINIA</td>\n",
       "      <td>Software Developers, Applications</td>\n",
       "      <td>NaN</td>\n",
       "      <td>79900.0</td>\n",
       "      <td>Year</td>\n",
       "      <td>Software Engineer</td>\n",
       "      <td>Bachelor's</td>\n",
       "      <td>N</td>\n",
       "      <td>NaN</td>\n",
       "      <td>INDIA</td>\n",
       "      <td>H-1B</td>\n",
       "    </tr>\n",
       "  </tbody>\n",
       "</table>\n",
       "<p>511146 rows × 16 columns</p>\n",
       "</div>"
      ],
      "text/plain": [
       "          CASE_NUMBER DECISION_DATE CASE_STATUS REFILE  \\\n",
       "0       A-16243-47818    2016-10-03   Withdrawn      N   \n",
       "1       A-16274-58094    2016-10-03   Withdrawn      N   \n",
       "2       A-16273-57601    2016-10-03   Withdrawn      N   \n",
       "3       A-16271-56548    2016-10-03   Withdrawn      N   \n",
       "4       A-16209-36199    2016-10-03   Withdrawn      N   \n",
       "...               ...           ...         ...    ...   \n",
       "511141  A-21260-45966    2021-09-30   Certified      N   \n",
       "511142  A-21263-47053    2021-09-30   Certified      N   \n",
       "511143  A-21267-49657    2021-09-30   Certified      N   \n",
       "511144  A-21268-49885    2021-09-30   Certified      N   \n",
       "511145  A-21270-50634    2021-09-30   Certified      N   \n",
       "\n",
       "                             EMPLOYER_NAME  EMPLOYER_STATE  \\\n",
       "0              XAVIENT INFORMATION SYSTEMS              CA   \n",
       "1                MARVELL SEMICONDUCTOR INC              CA   \n",
       "2                          MUY BRANDS, LLC              TX   \n",
       "3          CORPORATE COMPUTER SERVICES INC              MI   \n",
       "4            SEVEN SEAS TECHNOLOGIES, INC.              MO   \n",
       "...                                    ...             ...   \n",
       "511141  KENNEDY INTERNATIONAL SOFTWARE INC           TEXAS   \n",
       "511142          QUALCOMM TECHNOLOGIES INC.      CALIFORNIA   \n",
       "511143                         ECO BIO LLC        ARKANSAS   \n",
       "511144            Durham Dance Center, Inc  NORTH CAROLINA   \n",
       "511145                       ADAEQUARE INC        VIRGINIA   \n",
       "\n",
       "                                             PW_SOC_TITLE PW_LEVEL_9089  \\\n",
       "0                       Software Developers, Applications      Level IV   \n",
       "1                  Electronics Engineers, Except Computer           NaN   \n",
       "2       Combined Food Preparation and Serving Workers,...       Level I   \n",
       "3                       Software Developers, Applications     Level III   \n",
       "4                       Software Developers, Applications     Level III   \n",
       "...                                                   ...           ...   \n",
       "511141                          Computer Systems Analysts     Level III   \n",
       "511142             Electronics Engineers, Except Computer      Level II   \n",
       "511143                                       Veterinarian       Level I   \n",
       "511144                              Studio Dance Director      Level II   \n",
       "511145                  Software Developers, Applications           NaN   \n",
       "\n",
       "       PW_AMOUNT_9089 PW_UNIT_OF_PAY_9089                  JOB_INFO_JOB_TITLE  \\\n",
       "0          119,683.00                Year        Sr. Automation Test Engineer   \n",
       "1           89,150.00                Year             Digital Design Engineer   \n",
       "2           18,262.00                Year                 Food Service Worker   \n",
       "3           85,883.00                Year                    Business Analyst   \n",
       "4           66,706.00                Year              Sr. Programmer Analyst   \n",
       "...               ...                 ...                                 ...   \n",
       "511141       119538.0                Year                  SOFTWARE DEVELOPER   \n",
       "511142       124176.0                Year  Senior Multimedia Systems Engineer   \n",
       "511143       101504.0                Year                        Veterinarian   \n",
       "511144        50648.0                Year               Studio Dance Director   \n",
       "511145        79900.0                Year                   Software Engineer   \n",
       "\n",
       "       JOB_INFO_EDUCATION JOB_INFO_EXPERIENCE  JOB_INFO_EXPERIENCE_NUM_MONTHS  \\\n",
       "0                Master's                   Y                            36.0   \n",
       "1                Master's                   N                             NaN   \n",
       "2                    None                   N                             NaN   \n",
       "3                Master's                   Y                             6.0   \n",
       "4                Master's                   Y                            24.0   \n",
       "...                   ...                 ...                             ...   \n",
       "511141           Master's                   N                             NaN   \n",
       "511142           Master's                   N                             NaN   \n",
       "511143              Other                   N                             NaN   \n",
       "511144         Bachelor's                   N                             NaN   \n",
       "511145         Bachelor's                   N                             NaN   \n",
       "\n",
       "       COUNTRY_OF_CITIZENSHIP CLASS_OF_ADMISSION  \n",
       "0                       INDIA               H-1B  \n",
       "1                       CHINA               H-1B  \n",
       "2                 SOUTH KOREA                NaN  \n",
       "3                       INDIA               H-1B  \n",
       "4                       INDIA               H-1B  \n",
       "...                       ...                ...  \n",
       "511141                  INDIA               H-1B  \n",
       "511142                  INDIA               H-1B  \n",
       "511143                 MEXICO                 TN  \n",
       "511144                UKRAINE                O-1  \n",
       "511145                  INDIA               H-1B  \n",
       "\n",
       "[511146 rows x 16 columns]"
      ]
     },
     "execution_count": 132,
     "metadata": {},
     "output_type": "execute_result"
    }
   ],
   "source": [
    "h1b_df"
   ]
  },
  {
   "cell_type": "markdown",
   "id": "cd8faf86",
   "metadata": {},
   "source": [
    "<b> Adding the 'Year' column to the dataframe"
   ]
  },
  {
   "cell_type": "markdown",
   "id": "62766912",
   "metadata": {},
   "source": [
    "It is necessary to identify each record of the data with year. Hence, as 'Year' column is being appended."
   ]
  },
  {
   "cell_type": "code",
   "execution_count": 133,
   "id": "915f0c80",
   "metadata": {},
   "outputs": [],
   "source": [
    "h1b_df[\"Year\"]=h1b_df[\"DECISION_DATE\"].dt.year"
   ]
  },
  {
   "cell_type": "code",
   "execution_count": 134,
   "id": "2f6152b0",
   "metadata": {},
   "outputs": [
    {
     "name": "stdout",
     "output_type": "stream",
     "text": [
      "<class 'pandas.core.frame.DataFrame'>\n",
      "RangeIndex: 511146 entries, 0 to 511145\n",
      "Data columns (total 17 columns):\n",
      " #   Column                          Non-Null Count   Dtype         \n",
      "---  ------                          --------------   -----         \n",
      " 0   CASE_NUMBER                     511146 non-null  object        \n",
      " 1   DECISION_DATE                   511146 non-null  datetime64[ns]\n",
      " 2   CASE_STATUS                     511146 non-null  object        \n",
      " 3   REFILE                          411741 non-null  object        \n",
      " 4   EMPLOYER_NAME                   511143 non-null  object        \n",
      " 5   EMPLOYER_STATE                  511122 non-null  object        \n",
      " 6   PW_SOC_TITLE                    510425 non-null  object        \n",
      " 7   PW_LEVEL_9089                   478785 non-null  object        \n",
      " 8   PW_AMOUNT_9089                  510584 non-null  object        \n",
      " 9   PW_UNIT_OF_PAY_9089             510580 non-null  object        \n",
      " 10  JOB_INFO_JOB_TITLE              511039 non-null  object        \n",
      " 11  JOB_INFO_EDUCATION              511113 non-null  object        \n",
      " 12  JOB_INFO_EXPERIENCE             510698 non-null  object        \n",
      " 13  JOB_INFO_EXPERIENCE_NUM_MONTHS  290379 non-null  float64       \n",
      " 14  COUNTRY_OF_CITIZENSHIP          511102 non-null  object        \n",
      " 15  CLASS_OF_ADMISSION              471550 non-null  object        \n",
      " 16  Year                            511146 non-null  int64         \n",
      "dtypes: datetime64[ns](1), float64(1), int64(1), object(14)\n",
      "memory usage: 66.3+ MB\n"
     ]
    }
   ],
   "source": [
    "h1b_df.info()"
   ]
  },
  {
   "cell_type": "code",
   "execution_count": 135,
   "id": "2a300ad9",
   "metadata": {},
   "outputs": [
    {
     "data": {
      "text/plain": [
       "(333641, 17)"
      ]
     },
     "execution_count": 135,
     "metadata": {},
     "output_type": "execute_result"
    }
   ],
   "source": [
    "h1b_df = h1b_df[h1b_df[\"CLASS_OF_ADMISSION\"]==\"H-1B\"]\n",
    "h1b_df.shape"
   ]
  },
  {
   "cell_type": "markdown",
   "id": "0f8e1ef4",
   "metadata": {},
   "source": [
    "<b>Removing the cases which are 'withdrawn' and 'expired'<br>\n",
    "<b>Eliminating small number of cases from the year 2016 (Since data from 2017-2021 is being considered for modelling)\n"
   ]
  },
  {
   "cell_type": "code",
   "execution_count": 136,
   "id": "839c5716",
   "metadata": {},
   "outputs": [
    {
     "data": {
      "text/plain": [
       "array(['Withdrawn', 'Certified-Expired', 'Denied', 'Certified'],\n",
       "      dtype=object)"
      ]
     },
     "execution_count": 136,
     "metadata": {},
     "output_type": "execute_result"
    }
   ],
   "source": [
    "h1b_df[\"CASE_STATUS\"].unique()"
   ]
  },
  {
   "cell_type": "code",
   "execution_count": 137,
   "id": "c1fc70fc",
   "metadata": {
    "scrolled": true
   },
   "outputs": [
    {
     "data": {
      "text/html": [
       "<div>\n",
       "<style scoped>\n",
       "    .dataframe tbody tr th:only-of-type {\n",
       "        vertical-align: middle;\n",
       "    }\n",
       "\n",
       "    .dataframe tbody tr th {\n",
       "        vertical-align: top;\n",
       "    }\n",
       "\n",
       "    .dataframe thead th {\n",
       "        text-align: right;\n",
       "    }\n",
       "</style>\n",
       "<table border=\"1\" class=\"dataframe\">\n",
       "  <thead>\n",
       "    <tr style=\"text-align: right;\">\n",
       "      <th></th>\n",
       "      <th>CASE_NUMBER</th>\n",
       "      <th>DECISION_DATE</th>\n",
       "      <th>CASE_STATUS</th>\n",
       "      <th>REFILE</th>\n",
       "      <th>EMPLOYER_NAME</th>\n",
       "      <th>EMPLOYER_STATE</th>\n",
       "      <th>PW_SOC_TITLE</th>\n",
       "      <th>PW_LEVEL_9089</th>\n",
       "      <th>PW_AMOUNT_9089</th>\n",
       "      <th>PW_UNIT_OF_PAY_9089</th>\n",
       "      <th>JOB_INFO_JOB_TITLE</th>\n",
       "      <th>JOB_INFO_EDUCATION</th>\n",
       "      <th>JOB_INFO_EXPERIENCE</th>\n",
       "      <th>JOB_INFO_EXPERIENCE_NUM_MONTHS</th>\n",
       "      <th>COUNTRY_OF_CITIZENSHIP</th>\n",
       "      <th>CLASS_OF_ADMISSION</th>\n",
       "      <th>Year</th>\n",
       "    </tr>\n",
       "  </thead>\n",
       "  <tbody>\n",
       "    <tr>\n",
       "      <th>24779</th>\n",
       "      <td>A-16270-56093</td>\n",
       "      <td>2017-01-03</td>\n",
       "      <td>Denied</td>\n",
       "      <td>N</td>\n",
       "      <td>Union General Hospital</td>\n",
       "      <td>GA</td>\n",
       "      <td>Medical and Clinical Laboratory Technologists</td>\n",
       "      <td>Level I</td>\n",
       "      <td>19.84</td>\n",
       "      <td>Hour</td>\n",
       "      <td>Medical Technologist</td>\n",
       "      <td>Bachelor's</td>\n",
       "      <td>Y</td>\n",
       "      <td>36.0</td>\n",
       "      <td>PHILIPPINES</td>\n",
       "      <td>H-1B</td>\n",
       "      <td>2017</td>\n",
       "    </tr>\n",
       "    <tr>\n",
       "      <th>24831</th>\n",
       "      <td>A-16281-60165</td>\n",
       "      <td>2017-01-03</td>\n",
       "      <td>Denied</td>\n",
       "      <td>N</td>\n",
       "      <td>TYCO ELECTRONICS CORPORATION</td>\n",
       "      <td>PA</td>\n",
       "      <td>Computer Systems Analysts</td>\n",
       "      <td>Level III</td>\n",
       "      <td>94,598.00</td>\n",
       "      <td>Year</td>\n",
       "      <td>IT Auditor</td>\n",
       "      <td>Bachelor's</td>\n",
       "      <td>Y</td>\n",
       "      <td>24.0</td>\n",
       "      <td>INDIA</td>\n",
       "      <td>H-1B</td>\n",
       "      <td>2017</td>\n",
       "    </tr>\n",
       "    <tr>\n",
       "      <th>24851</th>\n",
       "      <td>A-16267-55773</td>\n",
       "      <td>2017-01-03</td>\n",
       "      <td>Denied</td>\n",
       "      <td>N</td>\n",
       "      <td>WAYNSYS INC</td>\n",
       "      <td>NJ</td>\n",
       "      <td>Network and Computer Systems Administrators*</td>\n",
       "      <td>Level I</td>\n",
       "      <td>61,734.00</td>\n",
       "      <td>Year</td>\n",
       "      <td>NETWORK ENGINEER/ADMINISTRATOR</td>\n",
       "      <td>Bachelor's</td>\n",
       "      <td>N</td>\n",
       "      <td>NaN</td>\n",
       "      <td>INDONESIA</td>\n",
       "      <td>H-1B</td>\n",
       "      <td>2017</td>\n",
       "    </tr>\n",
       "    <tr>\n",
       "      <th>24854</th>\n",
       "      <td>A-16202-34492</td>\n",
       "      <td>2017-01-03</td>\n",
       "      <td>Denied</td>\n",
       "      <td>N</td>\n",
       "      <td>PRUTECH SOLUTIONS, INC</td>\n",
       "      <td>NJ</td>\n",
       "      <td>Computer Systems Analysts</td>\n",
       "      <td>Level IV</td>\n",
       "      <td>116,709.00</td>\n",
       "      <td>Year</td>\n",
       "      <td>Sr. Business Systems Analyst I</td>\n",
       "      <td>Master's</td>\n",
       "      <td>N</td>\n",
       "      <td>NaN</td>\n",
       "      <td>INDIA</td>\n",
       "      <td>H-1B</td>\n",
       "      <td>2017</td>\n",
       "    </tr>\n",
       "    <tr>\n",
       "      <th>24855</th>\n",
       "      <td>A-15265-20526</td>\n",
       "      <td>2017-01-03</td>\n",
       "      <td>Denied</td>\n",
       "      <td>N</td>\n",
       "      <td>CLOUD SHERPAS INC.</td>\n",
       "      <td>GA</td>\n",
       "      <td>Computer Systems Analysts</td>\n",
       "      <td>Level IV</td>\n",
       "      <td>100,422.00</td>\n",
       "      <td>Year</td>\n",
       "      <td>Senior Technical Consultant</td>\n",
       "      <td>Bachelor's</td>\n",
       "      <td>Y</td>\n",
       "      <td>60.0</td>\n",
       "      <td>INDIA</td>\n",
       "      <td>H-1B</td>\n",
       "      <td>2017</td>\n",
       "    </tr>\n",
       "    <tr>\n",
       "      <th>...</th>\n",
       "      <td>...</td>\n",
       "      <td>...</td>\n",
       "      <td>...</td>\n",
       "      <td>...</td>\n",
       "      <td>...</td>\n",
       "      <td>...</td>\n",
       "      <td>...</td>\n",
       "      <td>...</td>\n",
       "      <td>...</td>\n",
       "      <td>...</td>\n",
       "      <td>...</td>\n",
       "      <td>...</td>\n",
       "      <td>...</td>\n",
       "      <td>...</td>\n",
       "      <td>...</td>\n",
       "      <td>...</td>\n",
       "      <td>...</td>\n",
       "    </tr>\n",
       "    <tr>\n",
       "      <th>511139</th>\n",
       "      <td>A-21175-06988</td>\n",
       "      <td>2021-09-30</td>\n",
       "      <td>Certified</td>\n",
       "      <td>N</td>\n",
       "      <td>AE TELEVISION NETWORKS, LLC</td>\n",
       "      <td>NEW YORK</td>\n",
       "      <td>Software Developers, Systems Software</td>\n",
       "      <td>Level IV</td>\n",
       "      <td>143936.0</td>\n",
       "      <td>Year</td>\n",
       "      <td>Senior Platform Engineer</td>\n",
       "      <td>Bachelor's</td>\n",
       "      <td>Y</td>\n",
       "      <td>60.0</td>\n",
       "      <td>INDIA</td>\n",
       "      <td>H-1B</td>\n",
       "      <td>2021</td>\n",
       "    </tr>\n",
       "    <tr>\n",
       "      <th>511140</th>\n",
       "      <td>A-21251-41292</td>\n",
       "      <td>2021-09-30</td>\n",
       "      <td>Certified</td>\n",
       "      <td>N</td>\n",
       "      <td>BRILLIANT SCIENCE</td>\n",
       "      <td>UTAH</td>\n",
       "      <td>Chemist</td>\n",
       "      <td>Level IV</td>\n",
       "      <td>76960.0</td>\n",
       "      <td>Year</td>\n",
       "      <td>Formulation Scientist</td>\n",
       "      <td>Master's</td>\n",
       "      <td>N</td>\n",
       "      <td>NaN</td>\n",
       "      <td>HONG KONG</td>\n",
       "      <td>H-1B</td>\n",
       "      <td>2021</td>\n",
       "    </tr>\n",
       "    <tr>\n",
       "      <th>511141</th>\n",
       "      <td>A-21260-45966</td>\n",
       "      <td>2021-09-30</td>\n",
       "      <td>Certified</td>\n",
       "      <td>N</td>\n",
       "      <td>KENNEDY INTERNATIONAL SOFTWARE INC</td>\n",
       "      <td>TEXAS</td>\n",
       "      <td>Computer Systems Analysts</td>\n",
       "      <td>Level III</td>\n",
       "      <td>119538.0</td>\n",
       "      <td>Year</td>\n",
       "      <td>SOFTWARE DEVELOPER</td>\n",
       "      <td>Master's</td>\n",
       "      <td>N</td>\n",
       "      <td>NaN</td>\n",
       "      <td>INDIA</td>\n",
       "      <td>H-1B</td>\n",
       "      <td>2021</td>\n",
       "    </tr>\n",
       "    <tr>\n",
       "      <th>511142</th>\n",
       "      <td>A-21263-47053</td>\n",
       "      <td>2021-09-30</td>\n",
       "      <td>Certified</td>\n",
       "      <td>N</td>\n",
       "      <td>QUALCOMM TECHNOLOGIES INC.</td>\n",
       "      <td>CALIFORNIA</td>\n",
       "      <td>Electronics Engineers, Except Computer</td>\n",
       "      <td>Level II</td>\n",
       "      <td>124176.0</td>\n",
       "      <td>Year</td>\n",
       "      <td>Senior Multimedia Systems Engineer</td>\n",
       "      <td>Master's</td>\n",
       "      <td>N</td>\n",
       "      <td>NaN</td>\n",
       "      <td>INDIA</td>\n",
       "      <td>H-1B</td>\n",
       "      <td>2021</td>\n",
       "    </tr>\n",
       "    <tr>\n",
       "      <th>511145</th>\n",
       "      <td>A-21270-50634</td>\n",
       "      <td>2021-09-30</td>\n",
       "      <td>Certified</td>\n",
       "      <td>N</td>\n",
       "      <td>ADAEQUARE INC</td>\n",
       "      <td>VIRGINIA</td>\n",
       "      <td>Software Developers, Applications</td>\n",
       "      <td>NaN</td>\n",
       "      <td>79900.0</td>\n",
       "      <td>Year</td>\n",
       "      <td>Software Engineer</td>\n",
       "      <td>Bachelor's</td>\n",
       "      <td>N</td>\n",
       "      <td>NaN</td>\n",
       "      <td>INDIA</td>\n",
       "      <td>H-1B</td>\n",
       "      <td>2021</td>\n",
       "    </tr>\n",
       "  </tbody>\n",
       "</table>\n",
       "<p>197823 rows × 17 columns</p>\n",
       "</div>"
      ],
      "text/plain": [
       "          CASE_NUMBER DECISION_DATE CASE_STATUS REFILE  \\\n",
       "24779   A-16270-56093    2017-01-03      Denied      N   \n",
       "24831   A-16281-60165    2017-01-03      Denied      N   \n",
       "24851   A-16267-55773    2017-01-03      Denied      N   \n",
       "24854   A-16202-34492    2017-01-03      Denied      N   \n",
       "24855   A-15265-20526    2017-01-03      Denied      N   \n",
       "...               ...           ...         ...    ...   \n",
       "511139  A-21175-06988    2021-09-30   Certified      N   \n",
       "511140  A-21251-41292    2021-09-30   Certified      N   \n",
       "511141  A-21260-45966    2021-09-30   Certified      N   \n",
       "511142  A-21263-47053    2021-09-30   Certified      N   \n",
       "511145  A-21270-50634    2021-09-30   Certified      N   \n",
       "\n",
       "                             EMPLOYER_NAME EMPLOYER_STATE  \\\n",
       "24779               Union General Hospital             GA   \n",
       "24831         TYCO ELECTRONICS CORPORATION             PA   \n",
       "24851                          WAYNSYS INC             NJ   \n",
       "24854               PRUTECH SOLUTIONS, INC             NJ   \n",
       "24855                   CLOUD SHERPAS INC.             GA   \n",
       "...                                    ...            ...   \n",
       "511139         AE TELEVISION NETWORKS, LLC       NEW YORK   \n",
       "511140                   BRILLIANT SCIENCE           UTAH   \n",
       "511141  KENNEDY INTERNATIONAL SOFTWARE INC          TEXAS   \n",
       "511142          QUALCOMM TECHNOLOGIES INC.     CALIFORNIA   \n",
       "511145                       ADAEQUARE INC       VIRGINIA   \n",
       "\n",
       "                                         PW_SOC_TITLE PW_LEVEL_9089  \\\n",
       "24779   Medical and Clinical Laboratory Technologists       Level I   \n",
       "24831                       Computer Systems Analysts     Level III   \n",
       "24851    Network and Computer Systems Administrators*       Level I   \n",
       "24854                       Computer Systems Analysts      Level IV   \n",
       "24855                       Computer Systems Analysts      Level IV   \n",
       "...                                               ...           ...   \n",
       "511139          Software Developers, Systems Software      Level IV   \n",
       "511140                                        Chemist      Level IV   \n",
       "511141                      Computer Systems Analysts     Level III   \n",
       "511142         Electronics Engineers, Except Computer      Level II   \n",
       "511145              Software Developers, Applications           NaN   \n",
       "\n",
       "       PW_AMOUNT_9089 PW_UNIT_OF_PAY_9089                  JOB_INFO_JOB_TITLE  \\\n",
       "24779           19.84                Hour                Medical Technologist   \n",
       "24831       94,598.00                Year                          IT Auditor   \n",
       "24851       61,734.00                Year      NETWORK ENGINEER/ADMINISTRATOR   \n",
       "24854      116,709.00                Year      Sr. Business Systems Analyst I   \n",
       "24855      100,422.00                Year         Senior Technical Consultant   \n",
       "...               ...                 ...                                 ...   \n",
       "511139       143936.0                Year            Senior Platform Engineer   \n",
       "511140        76960.0                Year               Formulation Scientist   \n",
       "511141       119538.0                Year                  SOFTWARE DEVELOPER   \n",
       "511142       124176.0                Year  Senior Multimedia Systems Engineer   \n",
       "511145        79900.0                Year                   Software Engineer   \n",
       "\n",
       "       JOB_INFO_EDUCATION JOB_INFO_EXPERIENCE  JOB_INFO_EXPERIENCE_NUM_MONTHS  \\\n",
       "24779          Bachelor's                   Y                            36.0   \n",
       "24831          Bachelor's                   Y                            24.0   \n",
       "24851          Bachelor's                   N                             NaN   \n",
       "24854            Master's                   N                             NaN   \n",
       "24855          Bachelor's                   Y                            60.0   \n",
       "...                   ...                 ...                             ...   \n",
       "511139         Bachelor's                   Y                            60.0   \n",
       "511140           Master's                   N                             NaN   \n",
       "511141           Master's                   N                             NaN   \n",
       "511142           Master's                   N                             NaN   \n",
       "511145         Bachelor's                   N                             NaN   \n",
       "\n",
       "       COUNTRY_OF_CITIZENSHIP CLASS_OF_ADMISSION  Year  \n",
       "24779             PHILIPPINES               H-1B  2017  \n",
       "24831                   INDIA               H-1B  2017  \n",
       "24851               INDONESIA               H-1B  2017  \n",
       "24854                   INDIA               H-1B  2017  \n",
       "24855                   INDIA               H-1B  2017  \n",
       "...                       ...                ...   ...  \n",
       "511139                  INDIA               H-1B  2021  \n",
       "511140              HONG KONG               H-1B  2021  \n",
       "511141                  INDIA               H-1B  2021  \n",
       "511142                  INDIA               H-1B  2021  \n",
       "511145                  INDIA               H-1B  2021  \n",
       "\n",
       "[197823 rows x 17 columns]"
      ]
     },
     "execution_count": 137,
     "metadata": {},
     "output_type": "execute_result"
    }
   ],
   "source": [
    "cond1 = h1b_df[\"CASE_STATUS\"]==\"Certified\"\n",
    "cond2 = h1b_df[\"CASE_STATUS\"]==\"Denied\"\n",
    "h1b_df = h1b_df[ cond1 | cond2 ]\n",
    "cond3 = h1b_df[\"Year\"]==2016\n",
    "h1b_df = h1b_df[(h1b_df[\"Year\"]==2017) | (h1b_df[\"Year\"]==2018) | (h1b_df[\"Year\"]==2019) |(h1b_df[\"Year\"]==2020) |(h1b_df[\"Year\"]==2021)]\n",
    "h1b_df"
   ]
  },
  {
   "cell_type": "markdown",
   "id": "b0dd6251",
   "metadata": {},
   "source": [
    "<b>Following a uniform notation for state names"
   ]
  },
  {
   "cell_type": "code",
   "execution_count": 264,
   "id": "16f0f5e6",
   "metadata": {},
   "outputs": [],
   "source": [
    "us_state_abbrev = {\n",
    "'Alabama': 'AL', 'Alaska': 'AK', 'Arizona': 'AZ', 'Arkansas': 'AR', 'California': 'CA', 'Colorado': 'CO',\n",
    "'Connecticut': 'CT', 'Delaware': 'DE', 'Florida': 'FL', 'Georgia': 'GA', 'Hawaii': 'HI', 'Idaho': 'ID',\n",
    "'Illinois': 'IL', 'Indiana': 'IN', 'Iowa': 'IA', 'Kansas': 'KS', 'Kentucky': 'KY', 'Louisiana': 'LA',\n",
    "'Maine': 'ME', 'Maryland': 'MD', 'Massachusetts': 'MA', 'Michigan': 'MI', 'Minnesota': 'MN', 'Mississippi': 'MS',\n",
    "'Missouri': 'MO', 'Montana': 'MT', 'Nebraska': 'NE', 'Nevada': 'NV', 'New Hampshire': 'NH', 'New Jersey': 'NJ',\n",
    "'New Mexico': 'NM', 'New York': 'NY', 'North Carolina': 'NC', 'North Dakota': 'ND', 'Ohio': 'OH', 'Oklahoma': 'OK',\n",
    "'Oregon': 'OR', 'Pennsylvania': 'PA', 'Rhode Island': 'RI', 'South Carolina': 'SC', 'South Dakota': 'SD',\n",
    "'Tennessee': 'TN', 'Texas': 'TX', 'Utah': 'UT', 'Vermont': 'VT', 'Virginia': 'VA', 'Washington': 'WA',\n",
    "'West Virginia': 'WV', 'Wisconsin': 'WI', 'Wyoming': 'WY'}\n",
    "upper={}\n",
    "for i in us_state_abbrev.keys():\n",
    "    upper[i.upper()]=us_state_abbrev[i]\n",
    "us_state_abbrev=upper\n",
    "for i in us_state_abbrev.keys():\n",
    "    us_state_abbrev.update({i.upper(): us_state_abbrev[i].upper()})\n",
    "h1b_df['EMPLOYER_STATE'] = h1b_df['EMPLOYER_STATE'].map(us_state_abbrev).fillna(h1b_df['EMPLOYER_STATE'])"
   ]
  },
  {
   "cell_type": "markdown",
   "id": "802c1cf5",
   "metadata": {},
   "source": [
    "<h2>Visualization"
   ]
  },
  {
   "cell_type": "code",
   "execution_count": 266,
   "id": "b882d74e",
   "metadata": {},
   "outputs": [
    {
     "data": {
      "application/vnd.plotly.v1+json": {
       "config": {
        "plotlyServerURL": "https://plot.ly"
       },
       "data": [
        {
         "alignmentgroup": "True",
         "hovertemplate": "Year=%{x}<br>CASE_STATUS=%{y}<extra></extra>",
         "legendgroup": "",
         "marker": {
          "color": "#636efa",
          "pattern": {
           "shape": ""
          }
         },
         "name": "",
         "offsetgroup": "",
         "orientation": "v",
         "showlegend": false,
         "textposition": "auto",
         "type": "bar",
         "x": [
          2017,
          2018,
          2019,
          2020,
          2021
         ],
         "xaxis": "x",
         "y": [
          25731,
          30024,
          32153,
          32190,
          40018
         ],
         "yaxis": "y"
        }
       ],
       "layout": {
        "barmode": "relative",
        "legend": {
         "tracegroupgap": 0
        },
        "template": {
         "data": {
          "bar": [
           {
            "error_x": {
             "color": "#2a3f5f"
            },
            "error_y": {
             "color": "#2a3f5f"
            },
            "marker": {
             "line": {
              "color": "#E5ECF6",
              "width": 0.5
             },
             "pattern": {
              "fillmode": "overlay",
              "size": 10,
              "solidity": 0.2
             }
            },
            "type": "bar"
           }
          ],
          "barpolar": [
           {
            "marker": {
             "line": {
              "color": "#E5ECF6",
              "width": 0.5
             },
             "pattern": {
              "fillmode": "overlay",
              "size": 10,
              "solidity": 0.2
             }
            },
            "type": "barpolar"
           }
          ],
          "carpet": [
           {
            "aaxis": {
             "endlinecolor": "#2a3f5f",
             "gridcolor": "white",
             "linecolor": "white",
             "minorgridcolor": "white",
             "startlinecolor": "#2a3f5f"
            },
            "baxis": {
             "endlinecolor": "#2a3f5f",
             "gridcolor": "white",
             "linecolor": "white",
             "minorgridcolor": "white",
             "startlinecolor": "#2a3f5f"
            },
            "type": "carpet"
           }
          ],
          "choropleth": [
           {
            "colorbar": {
             "outlinewidth": 0,
             "ticks": ""
            },
            "type": "choropleth"
           }
          ],
          "contour": [
           {
            "colorbar": {
             "outlinewidth": 0,
             "ticks": ""
            },
            "colorscale": [
             [
              0,
              "#0d0887"
             ],
             [
              0.1111111111111111,
              "#46039f"
             ],
             [
              0.2222222222222222,
              "#7201a8"
             ],
             [
              0.3333333333333333,
              "#9c179e"
             ],
             [
              0.4444444444444444,
              "#bd3786"
             ],
             [
              0.5555555555555556,
              "#d8576b"
             ],
             [
              0.6666666666666666,
              "#ed7953"
             ],
             [
              0.7777777777777778,
              "#fb9f3a"
             ],
             [
              0.8888888888888888,
              "#fdca26"
             ],
             [
              1,
              "#f0f921"
             ]
            ],
            "type": "contour"
           }
          ],
          "contourcarpet": [
           {
            "colorbar": {
             "outlinewidth": 0,
             "ticks": ""
            },
            "type": "contourcarpet"
           }
          ],
          "heatmap": [
           {
            "colorbar": {
             "outlinewidth": 0,
             "ticks": ""
            },
            "colorscale": [
             [
              0,
              "#0d0887"
             ],
             [
              0.1111111111111111,
              "#46039f"
             ],
             [
              0.2222222222222222,
              "#7201a8"
             ],
             [
              0.3333333333333333,
              "#9c179e"
             ],
             [
              0.4444444444444444,
              "#bd3786"
             ],
             [
              0.5555555555555556,
              "#d8576b"
             ],
             [
              0.6666666666666666,
              "#ed7953"
             ],
             [
              0.7777777777777778,
              "#fb9f3a"
             ],
             [
              0.8888888888888888,
              "#fdca26"
             ],
             [
              1,
              "#f0f921"
             ]
            ],
            "type": "heatmap"
           }
          ],
          "heatmapgl": [
           {
            "colorbar": {
             "outlinewidth": 0,
             "ticks": ""
            },
            "colorscale": [
             [
              0,
              "#0d0887"
             ],
             [
              0.1111111111111111,
              "#46039f"
             ],
             [
              0.2222222222222222,
              "#7201a8"
             ],
             [
              0.3333333333333333,
              "#9c179e"
             ],
             [
              0.4444444444444444,
              "#bd3786"
             ],
             [
              0.5555555555555556,
              "#d8576b"
             ],
             [
              0.6666666666666666,
              "#ed7953"
             ],
             [
              0.7777777777777778,
              "#fb9f3a"
             ],
             [
              0.8888888888888888,
              "#fdca26"
             ],
             [
              1,
              "#f0f921"
             ]
            ],
            "type": "heatmapgl"
           }
          ],
          "histogram": [
           {
            "marker": {
             "pattern": {
              "fillmode": "overlay",
              "size": 10,
              "solidity": 0.2
             }
            },
            "type": "histogram"
           }
          ],
          "histogram2d": [
           {
            "colorbar": {
             "outlinewidth": 0,
             "ticks": ""
            },
            "colorscale": [
             [
              0,
              "#0d0887"
             ],
             [
              0.1111111111111111,
              "#46039f"
             ],
             [
              0.2222222222222222,
              "#7201a8"
             ],
             [
              0.3333333333333333,
              "#9c179e"
             ],
             [
              0.4444444444444444,
              "#bd3786"
             ],
             [
              0.5555555555555556,
              "#d8576b"
             ],
             [
              0.6666666666666666,
              "#ed7953"
             ],
             [
              0.7777777777777778,
              "#fb9f3a"
             ],
             [
              0.8888888888888888,
              "#fdca26"
             ],
             [
              1,
              "#f0f921"
             ]
            ],
            "type": "histogram2d"
           }
          ],
          "histogram2dcontour": [
           {
            "colorbar": {
             "outlinewidth": 0,
             "ticks": ""
            },
            "colorscale": [
             [
              0,
              "#0d0887"
             ],
             [
              0.1111111111111111,
              "#46039f"
             ],
             [
              0.2222222222222222,
              "#7201a8"
             ],
             [
              0.3333333333333333,
              "#9c179e"
             ],
             [
              0.4444444444444444,
              "#bd3786"
             ],
             [
              0.5555555555555556,
              "#d8576b"
             ],
             [
              0.6666666666666666,
              "#ed7953"
             ],
             [
              0.7777777777777778,
              "#fb9f3a"
             ],
             [
              0.8888888888888888,
              "#fdca26"
             ],
             [
              1,
              "#f0f921"
             ]
            ],
            "type": "histogram2dcontour"
           }
          ],
          "mesh3d": [
           {
            "colorbar": {
             "outlinewidth": 0,
             "ticks": ""
            },
            "type": "mesh3d"
           }
          ],
          "parcoords": [
           {
            "line": {
             "colorbar": {
              "outlinewidth": 0,
              "ticks": ""
             }
            },
            "type": "parcoords"
           }
          ],
          "pie": [
           {
            "automargin": true,
            "type": "pie"
           }
          ],
          "scatter": [
           {
            "marker": {
             "colorbar": {
              "outlinewidth": 0,
              "ticks": ""
             }
            },
            "type": "scatter"
           }
          ],
          "scatter3d": [
           {
            "line": {
             "colorbar": {
              "outlinewidth": 0,
              "ticks": ""
             }
            },
            "marker": {
             "colorbar": {
              "outlinewidth": 0,
              "ticks": ""
             }
            },
            "type": "scatter3d"
           }
          ],
          "scattercarpet": [
           {
            "marker": {
             "colorbar": {
              "outlinewidth": 0,
              "ticks": ""
             }
            },
            "type": "scattercarpet"
           }
          ],
          "scattergeo": [
           {
            "marker": {
             "colorbar": {
              "outlinewidth": 0,
              "ticks": ""
             }
            },
            "type": "scattergeo"
           }
          ],
          "scattergl": [
           {
            "marker": {
             "colorbar": {
              "outlinewidth": 0,
              "ticks": ""
             }
            },
            "type": "scattergl"
           }
          ],
          "scattermapbox": [
           {
            "marker": {
             "colorbar": {
              "outlinewidth": 0,
              "ticks": ""
             }
            },
            "type": "scattermapbox"
           }
          ],
          "scatterpolar": [
           {
            "marker": {
             "colorbar": {
              "outlinewidth": 0,
              "ticks": ""
             }
            },
            "type": "scatterpolar"
           }
          ],
          "scatterpolargl": [
           {
            "marker": {
             "colorbar": {
              "outlinewidth": 0,
              "ticks": ""
             }
            },
            "type": "scatterpolargl"
           }
          ],
          "scatterternary": [
           {
            "marker": {
             "colorbar": {
              "outlinewidth": 0,
              "ticks": ""
             }
            },
            "type": "scatterternary"
           }
          ],
          "surface": [
           {
            "colorbar": {
             "outlinewidth": 0,
             "ticks": ""
            },
            "colorscale": [
             [
              0,
              "#0d0887"
             ],
             [
              0.1111111111111111,
              "#46039f"
             ],
             [
              0.2222222222222222,
              "#7201a8"
             ],
             [
              0.3333333333333333,
              "#9c179e"
             ],
             [
              0.4444444444444444,
              "#bd3786"
             ],
             [
              0.5555555555555556,
              "#d8576b"
             ],
             [
              0.6666666666666666,
              "#ed7953"
             ],
             [
              0.7777777777777778,
              "#fb9f3a"
             ],
             [
              0.8888888888888888,
              "#fdca26"
             ],
             [
              1,
              "#f0f921"
             ]
            ],
            "type": "surface"
           }
          ],
          "table": [
           {
            "cells": {
             "fill": {
              "color": "#EBF0F8"
             },
             "line": {
              "color": "white"
             }
            },
            "header": {
             "fill": {
              "color": "#C8D4E3"
             },
             "line": {
              "color": "white"
             }
            },
            "type": "table"
           }
          ]
         },
         "layout": {
          "annotationdefaults": {
           "arrowcolor": "#2a3f5f",
           "arrowhead": 0,
           "arrowwidth": 1
          },
          "autotypenumbers": "strict",
          "coloraxis": {
           "colorbar": {
            "outlinewidth": 0,
            "ticks": ""
           }
          },
          "colorscale": {
           "diverging": [
            [
             0,
             "#8e0152"
            ],
            [
             0.1,
             "#c51b7d"
            ],
            [
             0.2,
             "#de77ae"
            ],
            [
             0.3,
             "#f1b6da"
            ],
            [
             0.4,
             "#fde0ef"
            ],
            [
             0.5,
             "#f7f7f7"
            ],
            [
             0.6,
             "#e6f5d0"
            ],
            [
             0.7,
             "#b8e186"
            ],
            [
             0.8,
             "#7fbc41"
            ],
            [
             0.9,
             "#4d9221"
            ],
            [
             1,
             "#276419"
            ]
           ],
           "sequential": [
            [
             0,
             "#0d0887"
            ],
            [
             0.1111111111111111,
             "#46039f"
            ],
            [
             0.2222222222222222,
             "#7201a8"
            ],
            [
             0.3333333333333333,
             "#9c179e"
            ],
            [
             0.4444444444444444,
             "#bd3786"
            ],
            [
             0.5555555555555556,
             "#d8576b"
            ],
            [
             0.6666666666666666,
             "#ed7953"
            ],
            [
             0.7777777777777778,
             "#fb9f3a"
            ],
            [
             0.8888888888888888,
             "#fdca26"
            ],
            [
             1,
             "#f0f921"
            ]
           ],
           "sequentialminus": [
            [
             0,
             "#0d0887"
            ],
            [
             0.1111111111111111,
             "#46039f"
            ],
            [
             0.2222222222222222,
             "#7201a8"
            ],
            [
             0.3333333333333333,
             "#9c179e"
            ],
            [
             0.4444444444444444,
             "#bd3786"
            ],
            [
             0.5555555555555556,
             "#d8576b"
            ],
            [
             0.6666666666666666,
             "#ed7953"
            ],
            [
             0.7777777777777778,
             "#fb9f3a"
            ],
            [
             0.8888888888888888,
             "#fdca26"
            ],
            [
             1,
             "#f0f921"
            ]
           ]
          },
          "colorway": [
           "#636efa",
           "#EF553B",
           "#00cc96",
           "#ab63fa",
           "#FFA15A",
           "#19d3f3",
           "#FF6692",
           "#B6E880",
           "#FF97FF",
           "#FECB52"
          ],
          "font": {
           "color": "#2a3f5f"
          },
          "geo": {
           "bgcolor": "white",
           "lakecolor": "white",
           "landcolor": "#E5ECF6",
           "showlakes": true,
           "showland": true,
           "subunitcolor": "white"
          },
          "hoverlabel": {
           "align": "left"
          },
          "hovermode": "closest",
          "mapbox": {
           "style": "light"
          },
          "paper_bgcolor": "white",
          "plot_bgcolor": "#E5ECF6",
          "polar": {
           "angularaxis": {
            "gridcolor": "white",
            "linecolor": "white",
            "ticks": ""
           },
           "bgcolor": "#E5ECF6",
           "radialaxis": {
            "gridcolor": "white",
            "linecolor": "white",
            "ticks": ""
           }
          },
          "scene": {
           "xaxis": {
            "backgroundcolor": "#E5ECF6",
            "gridcolor": "white",
            "gridwidth": 2,
            "linecolor": "white",
            "showbackground": true,
            "ticks": "",
            "zerolinecolor": "white"
           },
           "yaxis": {
            "backgroundcolor": "#E5ECF6",
            "gridcolor": "white",
            "gridwidth": 2,
            "linecolor": "white",
            "showbackground": true,
            "ticks": "",
            "zerolinecolor": "white"
           },
           "zaxis": {
            "backgroundcolor": "#E5ECF6",
            "gridcolor": "white",
            "gridwidth": 2,
            "linecolor": "white",
            "showbackground": true,
            "ticks": "",
            "zerolinecolor": "white"
           }
          },
          "shapedefaults": {
           "line": {
            "color": "#2a3f5f"
           }
          },
          "ternary": {
           "aaxis": {
            "gridcolor": "white",
            "linecolor": "white",
            "ticks": ""
           },
           "baxis": {
            "gridcolor": "white",
            "linecolor": "white",
            "ticks": ""
           },
           "bgcolor": "#E5ECF6",
           "caxis": {
            "gridcolor": "white",
            "linecolor": "white",
            "ticks": ""
           }
          },
          "title": {
           "x": 0.05
          },
          "xaxis": {
           "automargin": true,
           "gridcolor": "white",
           "linecolor": "white",
           "ticks": "",
           "title": {
            "standoff": 15
           },
           "zerolinecolor": "white",
           "zerolinewidth": 2
          },
          "yaxis": {
           "automargin": true,
           "gridcolor": "white",
           "linecolor": "white",
           "ticks": "",
           "title": {
            "standoff": 15
           },
           "zerolinecolor": "white",
           "zerolinewidth": 2
          }
         }
        },
        "title": {
         "text": "CERTIFIED CASES FROM 2017-2021"
        },
        "xaxis": {
         "anchor": "y",
         "domain": [
          0,
          1
         ],
         "title": {
          "text": "Year"
         }
        },
        "yaxis": {
         "anchor": "x",
         "domain": [
          0,
          1
         ],
         "title": {
          "text": "CASE_STATUS"
         }
        }
       }
      },
      "text/html": [
       "<div>                            <div id=\"bd72fed6-6bc1-4a5e-81ff-e1564f86fa6a\" class=\"plotly-graph-div\" style=\"height:525px; width:100%;\"></div>            <script type=\"text/javascript\">                require([\"plotly\"], function(Plotly) {                    window.PLOTLYENV=window.PLOTLYENV || {};                                    if (document.getElementById(\"bd72fed6-6bc1-4a5e-81ff-e1564f86fa6a\")) {                    Plotly.newPlot(                        \"bd72fed6-6bc1-4a5e-81ff-e1564f86fa6a\",                        [{\"alignmentgroup\":\"True\",\"hovertemplate\":\"Year=%{x}<br>CASE_STATUS=%{y}<extra></extra>\",\"legendgroup\":\"\",\"marker\":{\"color\":\"#636efa\",\"pattern\":{\"shape\":\"\"}},\"name\":\"\",\"offsetgroup\":\"\",\"orientation\":\"v\",\"showlegend\":false,\"textposition\":\"auto\",\"type\":\"bar\",\"x\":[2017,2018,2019,2020,2021],\"xaxis\":\"x\",\"y\":[25731,30024,32153,32190,40018],\"yaxis\":\"y\"}],                        {\"barmode\":\"relative\",\"legend\":{\"tracegroupgap\":0},\"template\":{\"data\":{\"bar\":[{\"error_x\":{\"color\":\"#2a3f5f\"},\"error_y\":{\"color\":\"#2a3f5f\"},\"marker\":{\"line\":{\"color\":\"#E5ECF6\",\"width\":0.5},\"pattern\":{\"fillmode\":\"overlay\",\"size\":10,\"solidity\":0.2}},\"type\":\"bar\"}],\"barpolar\":[{\"marker\":{\"line\":{\"color\":\"#E5ECF6\",\"width\":0.5},\"pattern\":{\"fillmode\":\"overlay\",\"size\":10,\"solidity\":0.2}},\"type\":\"barpolar\"}],\"carpet\":[{\"aaxis\":{\"endlinecolor\":\"#2a3f5f\",\"gridcolor\":\"white\",\"linecolor\":\"white\",\"minorgridcolor\":\"white\",\"startlinecolor\":\"#2a3f5f\"},\"baxis\":{\"endlinecolor\":\"#2a3f5f\",\"gridcolor\":\"white\",\"linecolor\":\"white\",\"minorgridcolor\":\"white\",\"startlinecolor\":\"#2a3f5f\"},\"type\":\"carpet\"}],\"choropleth\":[{\"colorbar\":{\"outlinewidth\":0,\"ticks\":\"\"},\"type\":\"choropleth\"}],\"contour\":[{\"colorbar\":{\"outlinewidth\":0,\"ticks\":\"\"},\"colorscale\":[[0.0,\"#0d0887\"],[0.1111111111111111,\"#46039f\"],[0.2222222222222222,\"#7201a8\"],[0.3333333333333333,\"#9c179e\"],[0.4444444444444444,\"#bd3786\"],[0.5555555555555556,\"#d8576b\"],[0.6666666666666666,\"#ed7953\"],[0.7777777777777778,\"#fb9f3a\"],[0.8888888888888888,\"#fdca26\"],[1.0,\"#f0f921\"]],\"type\":\"contour\"}],\"contourcarpet\":[{\"colorbar\":{\"outlinewidth\":0,\"ticks\":\"\"},\"type\":\"contourcarpet\"}],\"heatmap\":[{\"colorbar\":{\"outlinewidth\":0,\"ticks\":\"\"},\"colorscale\":[[0.0,\"#0d0887\"],[0.1111111111111111,\"#46039f\"],[0.2222222222222222,\"#7201a8\"],[0.3333333333333333,\"#9c179e\"],[0.4444444444444444,\"#bd3786\"],[0.5555555555555556,\"#d8576b\"],[0.6666666666666666,\"#ed7953\"],[0.7777777777777778,\"#fb9f3a\"],[0.8888888888888888,\"#fdca26\"],[1.0,\"#f0f921\"]],\"type\":\"heatmap\"}],\"heatmapgl\":[{\"colorbar\":{\"outlinewidth\":0,\"ticks\":\"\"},\"colorscale\":[[0.0,\"#0d0887\"],[0.1111111111111111,\"#46039f\"],[0.2222222222222222,\"#7201a8\"],[0.3333333333333333,\"#9c179e\"],[0.4444444444444444,\"#bd3786\"],[0.5555555555555556,\"#d8576b\"],[0.6666666666666666,\"#ed7953\"],[0.7777777777777778,\"#fb9f3a\"],[0.8888888888888888,\"#fdca26\"],[1.0,\"#f0f921\"]],\"type\":\"heatmapgl\"}],\"histogram\":[{\"marker\":{\"pattern\":{\"fillmode\":\"overlay\",\"size\":10,\"solidity\":0.2}},\"type\":\"histogram\"}],\"histogram2d\":[{\"colorbar\":{\"outlinewidth\":0,\"ticks\":\"\"},\"colorscale\":[[0.0,\"#0d0887\"],[0.1111111111111111,\"#46039f\"],[0.2222222222222222,\"#7201a8\"],[0.3333333333333333,\"#9c179e\"],[0.4444444444444444,\"#bd3786\"],[0.5555555555555556,\"#d8576b\"],[0.6666666666666666,\"#ed7953\"],[0.7777777777777778,\"#fb9f3a\"],[0.8888888888888888,\"#fdca26\"],[1.0,\"#f0f921\"]],\"type\":\"histogram2d\"}],\"histogram2dcontour\":[{\"colorbar\":{\"outlinewidth\":0,\"ticks\":\"\"},\"colorscale\":[[0.0,\"#0d0887\"],[0.1111111111111111,\"#46039f\"],[0.2222222222222222,\"#7201a8\"],[0.3333333333333333,\"#9c179e\"],[0.4444444444444444,\"#bd3786\"],[0.5555555555555556,\"#d8576b\"],[0.6666666666666666,\"#ed7953\"],[0.7777777777777778,\"#fb9f3a\"],[0.8888888888888888,\"#fdca26\"],[1.0,\"#f0f921\"]],\"type\":\"histogram2dcontour\"}],\"mesh3d\":[{\"colorbar\":{\"outlinewidth\":0,\"ticks\":\"\"},\"type\":\"mesh3d\"}],\"parcoords\":[{\"line\":{\"colorbar\":{\"outlinewidth\":0,\"ticks\":\"\"}},\"type\":\"parcoords\"}],\"pie\":[{\"automargin\":true,\"type\":\"pie\"}],\"scatter\":[{\"marker\":{\"colorbar\":{\"outlinewidth\":0,\"ticks\":\"\"}},\"type\":\"scatter\"}],\"scatter3d\":[{\"line\":{\"colorbar\":{\"outlinewidth\":0,\"ticks\":\"\"}},\"marker\":{\"colorbar\":{\"outlinewidth\":0,\"ticks\":\"\"}},\"type\":\"scatter3d\"}],\"scattercarpet\":[{\"marker\":{\"colorbar\":{\"outlinewidth\":0,\"ticks\":\"\"}},\"type\":\"scattercarpet\"}],\"scattergeo\":[{\"marker\":{\"colorbar\":{\"outlinewidth\":0,\"ticks\":\"\"}},\"type\":\"scattergeo\"}],\"scattergl\":[{\"marker\":{\"colorbar\":{\"outlinewidth\":0,\"ticks\":\"\"}},\"type\":\"scattergl\"}],\"scattermapbox\":[{\"marker\":{\"colorbar\":{\"outlinewidth\":0,\"ticks\":\"\"}},\"type\":\"scattermapbox\"}],\"scatterpolar\":[{\"marker\":{\"colorbar\":{\"outlinewidth\":0,\"ticks\":\"\"}},\"type\":\"scatterpolar\"}],\"scatterpolargl\":[{\"marker\":{\"colorbar\":{\"outlinewidth\":0,\"ticks\":\"\"}},\"type\":\"scatterpolargl\"}],\"scatterternary\":[{\"marker\":{\"colorbar\":{\"outlinewidth\":0,\"ticks\":\"\"}},\"type\":\"scatterternary\"}],\"surface\":[{\"colorbar\":{\"outlinewidth\":0,\"ticks\":\"\"},\"colorscale\":[[0.0,\"#0d0887\"],[0.1111111111111111,\"#46039f\"],[0.2222222222222222,\"#7201a8\"],[0.3333333333333333,\"#9c179e\"],[0.4444444444444444,\"#bd3786\"],[0.5555555555555556,\"#d8576b\"],[0.6666666666666666,\"#ed7953\"],[0.7777777777777778,\"#fb9f3a\"],[0.8888888888888888,\"#fdca26\"],[1.0,\"#f0f921\"]],\"type\":\"surface\"}],\"table\":[{\"cells\":{\"fill\":{\"color\":\"#EBF0F8\"},\"line\":{\"color\":\"white\"}},\"header\":{\"fill\":{\"color\":\"#C8D4E3\"},\"line\":{\"color\":\"white\"}},\"type\":\"table\"}]},\"layout\":{\"annotationdefaults\":{\"arrowcolor\":\"#2a3f5f\",\"arrowhead\":0,\"arrowwidth\":1},\"autotypenumbers\":\"strict\",\"coloraxis\":{\"colorbar\":{\"outlinewidth\":0,\"ticks\":\"\"}},\"colorscale\":{\"diverging\":[[0,\"#8e0152\"],[0.1,\"#c51b7d\"],[0.2,\"#de77ae\"],[0.3,\"#f1b6da\"],[0.4,\"#fde0ef\"],[0.5,\"#f7f7f7\"],[0.6,\"#e6f5d0\"],[0.7,\"#b8e186\"],[0.8,\"#7fbc41\"],[0.9,\"#4d9221\"],[1,\"#276419\"]],\"sequential\":[[0.0,\"#0d0887\"],[0.1111111111111111,\"#46039f\"],[0.2222222222222222,\"#7201a8\"],[0.3333333333333333,\"#9c179e\"],[0.4444444444444444,\"#bd3786\"],[0.5555555555555556,\"#d8576b\"],[0.6666666666666666,\"#ed7953\"],[0.7777777777777778,\"#fb9f3a\"],[0.8888888888888888,\"#fdca26\"],[1.0,\"#f0f921\"]],\"sequentialminus\":[[0.0,\"#0d0887\"],[0.1111111111111111,\"#46039f\"],[0.2222222222222222,\"#7201a8\"],[0.3333333333333333,\"#9c179e\"],[0.4444444444444444,\"#bd3786\"],[0.5555555555555556,\"#d8576b\"],[0.6666666666666666,\"#ed7953\"],[0.7777777777777778,\"#fb9f3a\"],[0.8888888888888888,\"#fdca26\"],[1.0,\"#f0f921\"]]},\"colorway\":[\"#636efa\",\"#EF553B\",\"#00cc96\",\"#ab63fa\",\"#FFA15A\",\"#19d3f3\",\"#FF6692\",\"#B6E880\",\"#FF97FF\",\"#FECB52\"],\"font\":{\"color\":\"#2a3f5f\"},\"geo\":{\"bgcolor\":\"white\",\"lakecolor\":\"white\",\"landcolor\":\"#E5ECF6\",\"showlakes\":true,\"showland\":true,\"subunitcolor\":\"white\"},\"hoverlabel\":{\"align\":\"left\"},\"hovermode\":\"closest\",\"mapbox\":{\"style\":\"light\"},\"paper_bgcolor\":\"white\",\"plot_bgcolor\":\"#E5ECF6\",\"polar\":{\"angularaxis\":{\"gridcolor\":\"white\",\"linecolor\":\"white\",\"ticks\":\"\"},\"bgcolor\":\"#E5ECF6\",\"radialaxis\":{\"gridcolor\":\"white\",\"linecolor\":\"white\",\"ticks\":\"\"}},\"scene\":{\"xaxis\":{\"backgroundcolor\":\"#E5ECF6\",\"gridcolor\":\"white\",\"gridwidth\":2,\"linecolor\":\"white\",\"showbackground\":true,\"ticks\":\"\",\"zerolinecolor\":\"white\"},\"yaxis\":{\"backgroundcolor\":\"#E5ECF6\",\"gridcolor\":\"white\",\"gridwidth\":2,\"linecolor\":\"white\",\"showbackground\":true,\"ticks\":\"\",\"zerolinecolor\":\"white\"},\"zaxis\":{\"backgroundcolor\":\"#E5ECF6\",\"gridcolor\":\"white\",\"gridwidth\":2,\"linecolor\":\"white\",\"showbackground\":true,\"ticks\":\"\",\"zerolinecolor\":\"white\"}},\"shapedefaults\":{\"line\":{\"color\":\"#2a3f5f\"}},\"ternary\":{\"aaxis\":{\"gridcolor\":\"white\",\"linecolor\":\"white\",\"ticks\":\"\"},\"baxis\":{\"gridcolor\":\"white\",\"linecolor\":\"white\",\"ticks\":\"\"},\"bgcolor\":\"#E5ECF6\",\"caxis\":{\"gridcolor\":\"white\",\"linecolor\":\"white\",\"ticks\":\"\"}},\"title\":{\"x\":0.05},\"xaxis\":{\"automargin\":true,\"gridcolor\":\"white\",\"linecolor\":\"white\",\"ticks\":\"\",\"title\":{\"standoff\":15},\"zerolinecolor\":\"white\",\"zerolinewidth\":2},\"yaxis\":{\"automargin\":true,\"gridcolor\":\"white\",\"linecolor\":\"white\",\"ticks\":\"\",\"title\":{\"standoff\":15},\"zerolinecolor\":\"white\",\"zerolinewidth\":2}}},\"title\":{\"text\":\"CERTIFIED CASES FROM 2017-2021\"},\"xaxis\":{\"anchor\":\"y\",\"domain\":[0.0,1.0],\"title\":{\"text\":\"Year\"}},\"yaxis\":{\"anchor\":\"x\",\"domain\":[0.0,1.0],\"title\":{\"text\":\"CASE_STATUS\"}}},                        {\"responsive\": true}                    ).then(function(){\n",
       "                            \n",
       "var gd = document.getElementById('bd72fed6-6bc1-4a5e-81ff-e1564f86fa6a');\n",
       "var x = new MutationObserver(function (mutations, observer) {{\n",
       "        var display = window.getComputedStyle(gd).display;\n",
       "        if (!display || display === 'none') {{\n",
       "            console.log([gd, 'removed!']);\n",
       "            Plotly.purge(gd);\n",
       "            observer.disconnect();\n",
       "        }}\n",
       "}});\n",
       "\n",
       "// Listen for the removal of the full notebook cells\n",
       "var notebookContainer = gd.closest('#notebook-container');\n",
       "if (notebookContainer) {{\n",
       "    x.observe(notebookContainer, {childList: true});\n",
       "}}\n",
       "\n",
       "// Listen for the clearing of the current output cell\n",
       "var outputEl = gd.closest('.output');\n",
       "if (outputEl) {{\n",
       "    x.observe(outputEl, {childList: true});\n",
       "}}\n",
       "\n",
       "                        })                };                });            </script>        </div>"
      ]
     },
     "metadata": {},
     "output_type": "display_data"
    }
   ],
   "source": [
    "h1b_df_c = h1b_df[h1b_df[\"CASE_STATUS\"]==\"Certified\"]\n",
    "h1b_df_c=h1b_df_c.groupby(\"Year\")[\"CASE_STATUS\"].count().reset_index()\n",
    "fig = px.bar(h1b_df_c, x='Year', y='CASE_STATUS', title=\"CERTIFIED CASES FROM 2017-2021\")\n",
    "fig.show()"
   ]
  },
  {
   "cell_type": "markdown",
   "id": "b9e9d4bd",
   "metadata": {},
   "source": [
    "The plot explains an upward trend in certified H-1B cases from 2017-2021. As we know, the number of H-1B approvals dropped during Trump Administration and increased significantly in the recent past."
   ]
  },
  {
   "cell_type": "code",
   "execution_count": 267,
   "id": "213df949",
   "metadata": {
    "scrolled": true
   },
   "outputs": [
    {
     "data": {
      "application/vnd.plotly.v1+json": {
       "config": {
        "plotlyServerURL": "https://plot.ly"
       },
       "data": [
        {
         "domain": {
          "x": [
           0,
           0.2888888888888889
          ],
          "y": [
           0.625,
           1
          ]
         },
         "labels": [
          "Certified",
          "Denied"
         ],
         "showlegend": false,
         "textinfo": "label+percent",
         "textposition": "inside",
         "type": "pie",
         "values": [
          25731,
          6587
         ]
        },
        {
         "domain": {
          "x": [
           0.35555555555555557,
           0.6444444444444445
          ],
          "y": [
           0.625,
           1
          ]
         },
         "labels": [
          "Certified",
          "Denied"
         ],
         "showlegend": false,
         "textinfo": "label+percent",
         "textposition": "inside",
         "type": "pie",
         "values": [
          30024,
          10356
         ]
        },
        {
         "domain": {
          "x": [
           0.7111111111111111,
           1
          ],
          "y": [
           0.625,
           1
          ]
         },
         "labels": [
          "Certified",
          "Denied"
         ],
         "showlegend": false,
         "textinfo": "label+percent",
         "textposition": "inside",
         "type": "pie",
         "values": [
          32153,
          7447
         ]
        },
        {
         "domain": {
          "x": [
           0,
           0.2888888888888889
          ],
          "y": [
           0,
           0.375
          ]
         },
         "labels": [
          "Certified",
          "Denied"
         ],
         "showlegend": false,
         "textinfo": "label+percent",
         "textposition": "inside",
         "type": "pie",
         "values": [
          32190,
          5869
         ]
        },
        {
         "domain": {
          "x": [
           0.35555555555555557,
           0.6444444444444445
          ],
          "y": [
           0,
           0.375
          ]
         },
         "labels": [
          "Certified",
          "Denied"
         ],
         "showlegend": false,
         "textinfo": "label+percent",
         "textposition": "inside",
         "type": "pie",
         "values": [
          40018,
          7448
         ]
        }
       ],
       "layout": {
        "annotations": [
         {
          "font": {
           "size": 16
          },
          "showarrow": false,
          "text": "2017",
          "x": 0.14444444444444446,
          "xanchor": "center",
          "xref": "paper",
          "y": 1,
          "yanchor": "bottom",
          "yref": "paper"
         },
         {
          "font": {
           "size": 16
          },
          "showarrow": false,
          "text": "2018",
          "x": 0.5,
          "xanchor": "center",
          "xref": "paper",
          "y": 1,
          "yanchor": "bottom",
          "yref": "paper"
         },
         {
          "font": {
           "size": 16
          },
          "showarrow": false,
          "text": "2019",
          "x": 0.8555555555555556,
          "xanchor": "center",
          "xref": "paper",
          "y": 1,
          "yanchor": "bottom",
          "yref": "paper"
         },
         {
          "font": {
           "size": 16
          },
          "showarrow": false,
          "text": "2020",
          "x": 0.14444444444444446,
          "xanchor": "center",
          "xref": "paper",
          "y": 0.375,
          "yanchor": "bottom",
          "yref": "paper"
         },
         {
          "font": {
           "size": 16
          },
          "showarrow": false,
          "text": "2021",
          "x": 0.5,
          "xanchor": "center",
          "xref": "paper",
          "y": 0.375,
          "yanchor": "bottom",
          "yref": "paper"
         }
        ],
        "template": {
         "data": {
          "bar": [
           {
            "error_x": {
             "color": "#2a3f5f"
            },
            "error_y": {
             "color": "#2a3f5f"
            },
            "marker": {
             "line": {
              "color": "#E5ECF6",
              "width": 0.5
             },
             "pattern": {
              "fillmode": "overlay",
              "size": 10,
              "solidity": 0.2
             }
            },
            "type": "bar"
           }
          ],
          "barpolar": [
           {
            "marker": {
             "line": {
              "color": "#E5ECF6",
              "width": 0.5
             },
             "pattern": {
              "fillmode": "overlay",
              "size": 10,
              "solidity": 0.2
             }
            },
            "type": "barpolar"
           }
          ],
          "carpet": [
           {
            "aaxis": {
             "endlinecolor": "#2a3f5f",
             "gridcolor": "white",
             "linecolor": "white",
             "minorgridcolor": "white",
             "startlinecolor": "#2a3f5f"
            },
            "baxis": {
             "endlinecolor": "#2a3f5f",
             "gridcolor": "white",
             "linecolor": "white",
             "minorgridcolor": "white",
             "startlinecolor": "#2a3f5f"
            },
            "type": "carpet"
           }
          ],
          "choropleth": [
           {
            "colorbar": {
             "outlinewidth": 0,
             "ticks": ""
            },
            "type": "choropleth"
           }
          ],
          "contour": [
           {
            "colorbar": {
             "outlinewidth": 0,
             "ticks": ""
            },
            "colorscale": [
             [
              0,
              "#0d0887"
             ],
             [
              0.1111111111111111,
              "#46039f"
             ],
             [
              0.2222222222222222,
              "#7201a8"
             ],
             [
              0.3333333333333333,
              "#9c179e"
             ],
             [
              0.4444444444444444,
              "#bd3786"
             ],
             [
              0.5555555555555556,
              "#d8576b"
             ],
             [
              0.6666666666666666,
              "#ed7953"
             ],
             [
              0.7777777777777778,
              "#fb9f3a"
             ],
             [
              0.8888888888888888,
              "#fdca26"
             ],
             [
              1,
              "#f0f921"
             ]
            ],
            "type": "contour"
           }
          ],
          "contourcarpet": [
           {
            "colorbar": {
             "outlinewidth": 0,
             "ticks": ""
            },
            "type": "contourcarpet"
           }
          ],
          "heatmap": [
           {
            "colorbar": {
             "outlinewidth": 0,
             "ticks": ""
            },
            "colorscale": [
             [
              0,
              "#0d0887"
             ],
             [
              0.1111111111111111,
              "#46039f"
             ],
             [
              0.2222222222222222,
              "#7201a8"
             ],
             [
              0.3333333333333333,
              "#9c179e"
             ],
             [
              0.4444444444444444,
              "#bd3786"
             ],
             [
              0.5555555555555556,
              "#d8576b"
             ],
             [
              0.6666666666666666,
              "#ed7953"
             ],
             [
              0.7777777777777778,
              "#fb9f3a"
             ],
             [
              0.8888888888888888,
              "#fdca26"
             ],
             [
              1,
              "#f0f921"
             ]
            ],
            "type": "heatmap"
           }
          ],
          "heatmapgl": [
           {
            "colorbar": {
             "outlinewidth": 0,
             "ticks": ""
            },
            "colorscale": [
             [
              0,
              "#0d0887"
             ],
             [
              0.1111111111111111,
              "#46039f"
             ],
             [
              0.2222222222222222,
              "#7201a8"
             ],
             [
              0.3333333333333333,
              "#9c179e"
             ],
             [
              0.4444444444444444,
              "#bd3786"
             ],
             [
              0.5555555555555556,
              "#d8576b"
             ],
             [
              0.6666666666666666,
              "#ed7953"
             ],
             [
              0.7777777777777778,
              "#fb9f3a"
             ],
             [
              0.8888888888888888,
              "#fdca26"
             ],
             [
              1,
              "#f0f921"
             ]
            ],
            "type": "heatmapgl"
           }
          ],
          "histogram": [
           {
            "marker": {
             "pattern": {
              "fillmode": "overlay",
              "size": 10,
              "solidity": 0.2
             }
            },
            "type": "histogram"
           }
          ],
          "histogram2d": [
           {
            "colorbar": {
             "outlinewidth": 0,
             "ticks": ""
            },
            "colorscale": [
             [
              0,
              "#0d0887"
             ],
             [
              0.1111111111111111,
              "#46039f"
             ],
             [
              0.2222222222222222,
              "#7201a8"
             ],
             [
              0.3333333333333333,
              "#9c179e"
             ],
             [
              0.4444444444444444,
              "#bd3786"
             ],
             [
              0.5555555555555556,
              "#d8576b"
             ],
             [
              0.6666666666666666,
              "#ed7953"
             ],
             [
              0.7777777777777778,
              "#fb9f3a"
             ],
             [
              0.8888888888888888,
              "#fdca26"
             ],
             [
              1,
              "#f0f921"
             ]
            ],
            "type": "histogram2d"
           }
          ],
          "histogram2dcontour": [
           {
            "colorbar": {
             "outlinewidth": 0,
             "ticks": ""
            },
            "colorscale": [
             [
              0,
              "#0d0887"
             ],
             [
              0.1111111111111111,
              "#46039f"
             ],
             [
              0.2222222222222222,
              "#7201a8"
             ],
             [
              0.3333333333333333,
              "#9c179e"
             ],
             [
              0.4444444444444444,
              "#bd3786"
             ],
             [
              0.5555555555555556,
              "#d8576b"
             ],
             [
              0.6666666666666666,
              "#ed7953"
             ],
             [
              0.7777777777777778,
              "#fb9f3a"
             ],
             [
              0.8888888888888888,
              "#fdca26"
             ],
             [
              1,
              "#f0f921"
             ]
            ],
            "type": "histogram2dcontour"
           }
          ],
          "mesh3d": [
           {
            "colorbar": {
             "outlinewidth": 0,
             "ticks": ""
            },
            "type": "mesh3d"
           }
          ],
          "parcoords": [
           {
            "line": {
             "colorbar": {
              "outlinewidth": 0,
              "ticks": ""
             }
            },
            "type": "parcoords"
           }
          ],
          "pie": [
           {
            "automargin": true,
            "type": "pie"
           }
          ],
          "scatter": [
           {
            "marker": {
             "colorbar": {
              "outlinewidth": 0,
              "ticks": ""
             }
            },
            "type": "scatter"
           }
          ],
          "scatter3d": [
           {
            "line": {
             "colorbar": {
              "outlinewidth": 0,
              "ticks": ""
             }
            },
            "marker": {
             "colorbar": {
              "outlinewidth": 0,
              "ticks": ""
             }
            },
            "type": "scatter3d"
           }
          ],
          "scattercarpet": [
           {
            "marker": {
             "colorbar": {
              "outlinewidth": 0,
              "ticks": ""
             }
            },
            "type": "scattercarpet"
           }
          ],
          "scattergeo": [
           {
            "marker": {
             "colorbar": {
              "outlinewidth": 0,
              "ticks": ""
             }
            },
            "type": "scattergeo"
           }
          ],
          "scattergl": [
           {
            "marker": {
             "colorbar": {
              "outlinewidth": 0,
              "ticks": ""
             }
            },
            "type": "scattergl"
           }
          ],
          "scattermapbox": [
           {
            "marker": {
             "colorbar": {
              "outlinewidth": 0,
              "ticks": ""
             }
            },
            "type": "scattermapbox"
           }
          ],
          "scatterpolar": [
           {
            "marker": {
             "colorbar": {
              "outlinewidth": 0,
              "ticks": ""
             }
            },
            "type": "scatterpolar"
           }
          ],
          "scatterpolargl": [
           {
            "marker": {
             "colorbar": {
              "outlinewidth": 0,
              "ticks": ""
             }
            },
            "type": "scatterpolargl"
           }
          ],
          "scatterternary": [
           {
            "marker": {
             "colorbar": {
              "outlinewidth": 0,
              "ticks": ""
             }
            },
            "type": "scatterternary"
           }
          ],
          "surface": [
           {
            "colorbar": {
             "outlinewidth": 0,
             "ticks": ""
            },
            "colorscale": [
             [
              0,
              "#0d0887"
             ],
             [
              0.1111111111111111,
              "#46039f"
             ],
             [
              0.2222222222222222,
              "#7201a8"
             ],
             [
              0.3333333333333333,
              "#9c179e"
             ],
             [
              0.4444444444444444,
              "#bd3786"
             ],
             [
              0.5555555555555556,
              "#d8576b"
             ],
             [
              0.6666666666666666,
              "#ed7953"
             ],
             [
              0.7777777777777778,
              "#fb9f3a"
             ],
             [
              0.8888888888888888,
              "#fdca26"
             ],
             [
              1,
              "#f0f921"
             ]
            ],
            "type": "surface"
           }
          ],
          "table": [
           {
            "cells": {
             "fill": {
              "color": "#EBF0F8"
             },
             "line": {
              "color": "white"
             }
            },
            "header": {
             "fill": {
              "color": "#C8D4E3"
             },
             "line": {
              "color": "white"
             }
            },
            "type": "table"
           }
          ]
         },
         "layout": {
          "annotationdefaults": {
           "arrowcolor": "#2a3f5f",
           "arrowhead": 0,
           "arrowwidth": 1
          },
          "autotypenumbers": "strict",
          "coloraxis": {
           "colorbar": {
            "outlinewidth": 0,
            "ticks": ""
           }
          },
          "colorscale": {
           "diverging": [
            [
             0,
             "#8e0152"
            ],
            [
             0.1,
             "#c51b7d"
            ],
            [
             0.2,
             "#de77ae"
            ],
            [
             0.3,
             "#f1b6da"
            ],
            [
             0.4,
             "#fde0ef"
            ],
            [
             0.5,
             "#f7f7f7"
            ],
            [
             0.6,
             "#e6f5d0"
            ],
            [
             0.7,
             "#b8e186"
            ],
            [
             0.8,
             "#7fbc41"
            ],
            [
             0.9,
             "#4d9221"
            ],
            [
             1,
             "#276419"
            ]
           ],
           "sequential": [
            [
             0,
             "#0d0887"
            ],
            [
             0.1111111111111111,
             "#46039f"
            ],
            [
             0.2222222222222222,
             "#7201a8"
            ],
            [
             0.3333333333333333,
             "#9c179e"
            ],
            [
             0.4444444444444444,
             "#bd3786"
            ],
            [
             0.5555555555555556,
             "#d8576b"
            ],
            [
             0.6666666666666666,
             "#ed7953"
            ],
            [
             0.7777777777777778,
             "#fb9f3a"
            ],
            [
             0.8888888888888888,
             "#fdca26"
            ],
            [
             1,
             "#f0f921"
            ]
           ],
           "sequentialminus": [
            [
             0,
             "#0d0887"
            ],
            [
             0.1111111111111111,
             "#46039f"
            ],
            [
             0.2222222222222222,
             "#7201a8"
            ],
            [
             0.3333333333333333,
             "#9c179e"
            ],
            [
             0.4444444444444444,
             "#bd3786"
            ],
            [
             0.5555555555555556,
             "#d8576b"
            ],
            [
             0.6666666666666666,
             "#ed7953"
            ],
            [
             0.7777777777777778,
             "#fb9f3a"
            ],
            [
             0.8888888888888888,
             "#fdca26"
            ],
            [
             1,
             "#f0f921"
            ]
           ]
          },
          "colorway": [
           "#636efa",
           "#EF553B",
           "#00cc96",
           "#ab63fa",
           "#FFA15A",
           "#19d3f3",
           "#FF6692",
           "#B6E880",
           "#FF97FF",
           "#FECB52"
          ],
          "font": {
           "color": "#2a3f5f"
          },
          "geo": {
           "bgcolor": "white",
           "lakecolor": "white",
           "landcolor": "#E5ECF6",
           "showlakes": true,
           "showland": true,
           "subunitcolor": "white"
          },
          "hoverlabel": {
           "align": "left"
          },
          "hovermode": "closest",
          "mapbox": {
           "style": "light"
          },
          "paper_bgcolor": "white",
          "plot_bgcolor": "#E5ECF6",
          "polar": {
           "angularaxis": {
            "gridcolor": "white",
            "linecolor": "white",
            "ticks": ""
           },
           "bgcolor": "#E5ECF6",
           "radialaxis": {
            "gridcolor": "white",
            "linecolor": "white",
            "ticks": ""
           }
          },
          "scene": {
           "xaxis": {
            "backgroundcolor": "#E5ECF6",
            "gridcolor": "white",
            "gridwidth": 2,
            "linecolor": "white",
            "showbackground": true,
            "ticks": "",
            "zerolinecolor": "white"
           },
           "yaxis": {
            "backgroundcolor": "#E5ECF6",
            "gridcolor": "white",
            "gridwidth": 2,
            "linecolor": "white",
            "showbackground": true,
            "ticks": "",
            "zerolinecolor": "white"
           },
           "zaxis": {
            "backgroundcolor": "#E5ECF6",
            "gridcolor": "white",
            "gridwidth": 2,
            "linecolor": "white",
            "showbackground": true,
            "ticks": "",
            "zerolinecolor": "white"
           }
          },
          "shapedefaults": {
           "line": {
            "color": "#2a3f5f"
           }
          },
          "ternary": {
           "aaxis": {
            "gridcolor": "white",
            "linecolor": "white",
            "ticks": ""
           },
           "baxis": {
            "gridcolor": "white",
            "linecolor": "white",
            "ticks": ""
           },
           "bgcolor": "#E5ECF6",
           "caxis": {
            "gridcolor": "white",
            "linecolor": "white",
            "ticks": ""
           }
          },
          "title": {
           "x": 0.05
          },
          "xaxis": {
           "automargin": true,
           "gridcolor": "white",
           "linecolor": "white",
           "ticks": "",
           "title": {
            "standoff": 15
           },
           "zerolinecolor": "white",
           "zerolinewidth": 2
          },
          "yaxis": {
           "automargin": true,
           "gridcolor": "white",
           "linecolor": "white",
           "ticks": "",
           "title": {
            "standoff": 15
           },
           "zerolinecolor": "white",
           "zerolinewidth": 2
          }
         }
        },
        "title": {
         "text": "Certified vs Denied Every Year",
         "x": 0.5
        }
       }
      },
      "text/html": [
       "<div>                            <div id=\"b485b670-de8c-41e1-9923-c89da1a053f0\" class=\"plotly-graph-div\" style=\"height:525px; width:100%;\"></div>            <script type=\"text/javascript\">                require([\"plotly\"], function(Plotly) {                    window.PLOTLYENV=window.PLOTLYENV || {};                                    if (document.getElementById(\"b485b670-de8c-41e1-9923-c89da1a053f0\")) {                    Plotly.newPlot(                        \"b485b670-de8c-41e1-9923-c89da1a053f0\",                        [{\"domain\":{\"x\":[0.0,0.2888888888888889],\"y\":[0.625,1.0]},\"labels\":[\"Certified\",\"Denied\"],\"showlegend\":false,\"textinfo\":\"label+percent\",\"textposition\":\"inside\",\"type\":\"pie\",\"values\":[25731,6587]},{\"domain\":{\"x\":[0.35555555555555557,0.6444444444444445],\"y\":[0.625,1.0]},\"labels\":[\"Certified\",\"Denied\"],\"showlegend\":false,\"textinfo\":\"label+percent\",\"textposition\":\"inside\",\"type\":\"pie\",\"values\":[30024,10356]},{\"domain\":{\"x\":[0.7111111111111111,1.0],\"y\":[0.625,1.0]},\"labels\":[\"Certified\",\"Denied\"],\"showlegend\":false,\"textinfo\":\"label+percent\",\"textposition\":\"inside\",\"type\":\"pie\",\"values\":[32153,7447]},{\"domain\":{\"x\":[0.0,0.2888888888888889],\"y\":[0.0,0.375]},\"labels\":[\"Certified\",\"Denied\"],\"showlegend\":false,\"textinfo\":\"label+percent\",\"textposition\":\"inside\",\"type\":\"pie\",\"values\":[32190,5869]},{\"domain\":{\"x\":[0.35555555555555557,0.6444444444444445],\"y\":[0.0,0.375]},\"labels\":[\"Certified\",\"Denied\"],\"showlegend\":false,\"textinfo\":\"label+percent\",\"textposition\":\"inside\",\"type\":\"pie\",\"values\":[40018,7448]}],                        {\"annotations\":[{\"font\":{\"size\":16},\"showarrow\":false,\"text\":\"2017\",\"x\":0.14444444444444446,\"xanchor\":\"center\",\"xref\":\"paper\",\"y\":1.0,\"yanchor\":\"bottom\",\"yref\":\"paper\"},{\"font\":{\"size\":16},\"showarrow\":false,\"text\":\"2018\",\"x\":0.5,\"xanchor\":\"center\",\"xref\":\"paper\",\"y\":1.0,\"yanchor\":\"bottom\",\"yref\":\"paper\"},{\"font\":{\"size\":16},\"showarrow\":false,\"text\":\"2019\",\"x\":0.8555555555555556,\"xanchor\":\"center\",\"xref\":\"paper\",\"y\":1.0,\"yanchor\":\"bottom\",\"yref\":\"paper\"},{\"font\":{\"size\":16},\"showarrow\":false,\"text\":\"2020\",\"x\":0.14444444444444446,\"xanchor\":\"center\",\"xref\":\"paper\",\"y\":0.375,\"yanchor\":\"bottom\",\"yref\":\"paper\"},{\"font\":{\"size\":16},\"showarrow\":false,\"text\":\"2021\",\"x\":0.5,\"xanchor\":\"center\",\"xref\":\"paper\",\"y\":0.375,\"yanchor\":\"bottom\",\"yref\":\"paper\"}],\"template\":{\"data\":{\"bar\":[{\"error_x\":{\"color\":\"#2a3f5f\"},\"error_y\":{\"color\":\"#2a3f5f\"},\"marker\":{\"line\":{\"color\":\"#E5ECF6\",\"width\":0.5},\"pattern\":{\"fillmode\":\"overlay\",\"size\":10,\"solidity\":0.2}},\"type\":\"bar\"}],\"barpolar\":[{\"marker\":{\"line\":{\"color\":\"#E5ECF6\",\"width\":0.5},\"pattern\":{\"fillmode\":\"overlay\",\"size\":10,\"solidity\":0.2}},\"type\":\"barpolar\"}],\"carpet\":[{\"aaxis\":{\"endlinecolor\":\"#2a3f5f\",\"gridcolor\":\"white\",\"linecolor\":\"white\",\"minorgridcolor\":\"white\",\"startlinecolor\":\"#2a3f5f\"},\"baxis\":{\"endlinecolor\":\"#2a3f5f\",\"gridcolor\":\"white\",\"linecolor\":\"white\",\"minorgridcolor\":\"white\",\"startlinecolor\":\"#2a3f5f\"},\"type\":\"carpet\"}],\"choropleth\":[{\"colorbar\":{\"outlinewidth\":0,\"ticks\":\"\"},\"type\":\"choropleth\"}],\"contour\":[{\"colorbar\":{\"outlinewidth\":0,\"ticks\":\"\"},\"colorscale\":[[0.0,\"#0d0887\"],[0.1111111111111111,\"#46039f\"],[0.2222222222222222,\"#7201a8\"],[0.3333333333333333,\"#9c179e\"],[0.4444444444444444,\"#bd3786\"],[0.5555555555555556,\"#d8576b\"],[0.6666666666666666,\"#ed7953\"],[0.7777777777777778,\"#fb9f3a\"],[0.8888888888888888,\"#fdca26\"],[1.0,\"#f0f921\"]],\"type\":\"contour\"}],\"contourcarpet\":[{\"colorbar\":{\"outlinewidth\":0,\"ticks\":\"\"},\"type\":\"contourcarpet\"}],\"heatmap\":[{\"colorbar\":{\"outlinewidth\":0,\"ticks\":\"\"},\"colorscale\":[[0.0,\"#0d0887\"],[0.1111111111111111,\"#46039f\"],[0.2222222222222222,\"#7201a8\"],[0.3333333333333333,\"#9c179e\"],[0.4444444444444444,\"#bd3786\"],[0.5555555555555556,\"#d8576b\"],[0.6666666666666666,\"#ed7953\"],[0.7777777777777778,\"#fb9f3a\"],[0.8888888888888888,\"#fdca26\"],[1.0,\"#f0f921\"]],\"type\":\"heatmap\"}],\"heatmapgl\":[{\"colorbar\":{\"outlinewidth\":0,\"ticks\":\"\"},\"colorscale\":[[0.0,\"#0d0887\"],[0.1111111111111111,\"#46039f\"],[0.2222222222222222,\"#7201a8\"],[0.3333333333333333,\"#9c179e\"],[0.4444444444444444,\"#bd3786\"],[0.5555555555555556,\"#d8576b\"],[0.6666666666666666,\"#ed7953\"],[0.7777777777777778,\"#fb9f3a\"],[0.8888888888888888,\"#fdca26\"],[1.0,\"#f0f921\"]],\"type\":\"heatmapgl\"}],\"histogram\":[{\"marker\":{\"pattern\":{\"fillmode\":\"overlay\",\"size\":10,\"solidity\":0.2}},\"type\":\"histogram\"}],\"histogram2d\":[{\"colorbar\":{\"outlinewidth\":0,\"ticks\":\"\"},\"colorscale\":[[0.0,\"#0d0887\"],[0.1111111111111111,\"#46039f\"],[0.2222222222222222,\"#7201a8\"],[0.3333333333333333,\"#9c179e\"],[0.4444444444444444,\"#bd3786\"],[0.5555555555555556,\"#d8576b\"],[0.6666666666666666,\"#ed7953\"],[0.7777777777777778,\"#fb9f3a\"],[0.8888888888888888,\"#fdca26\"],[1.0,\"#f0f921\"]],\"type\":\"histogram2d\"}],\"histogram2dcontour\":[{\"colorbar\":{\"outlinewidth\":0,\"ticks\":\"\"},\"colorscale\":[[0.0,\"#0d0887\"],[0.1111111111111111,\"#46039f\"],[0.2222222222222222,\"#7201a8\"],[0.3333333333333333,\"#9c179e\"],[0.4444444444444444,\"#bd3786\"],[0.5555555555555556,\"#d8576b\"],[0.6666666666666666,\"#ed7953\"],[0.7777777777777778,\"#fb9f3a\"],[0.8888888888888888,\"#fdca26\"],[1.0,\"#f0f921\"]],\"type\":\"histogram2dcontour\"}],\"mesh3d\":[{\"colorbar\":{\"outlinewidth\":0,\"ticks\":\"\"},\"type\":\"mesh3d\"}],\"parcoords\":[{\"line\":{\"colorbar\":{\"outlinewidth\":0,\"ticks\":\"\"}},\"type\":\"parcoords\"}],\"pie\":[{\"automargin\":true,\"type\":\"pie\"}],\"scatter\":[{\"marker\":{\"colorbar\":{\"outlinewidth\":0,\"ticks\":\"\"}},\"type\":\"scatter\"}],\"scatter3d\":[{\"line\":{\"colorbar\":{\"outlinewidth\":0,\"ticks\":\"\"}},\"marker\":{\"colorbar\":{\"outlinewidth\":0,\"ticks\":\"\"}},\"type\":\"scatter3d\"}],\"scattercarpet\":[{\"marker\":{\"colorbar\":{\"outlinewidth\":0,\"ticks\":\"\"}},\"type\":\"scattercarpet\"}],\"scattergeo\":[{\"marker\":{\"colorbar\":{\"outlinewidth\":0,\"ticks\":\"\"}},\"type\":\"scattergeo\"}],\"scattergl\":[{\"marker\":{\"colorbar\":{\"outlinewidth\":0,\"ticks\":\"\"}},\"type\":\"scattergl\"}],\"scattermapbox\":[{\"marker\":{\"colorbar\":{\"outlinewidth\":0,\"ticks\":\"\"}},\"type\":\"scattermapbox\"}],\"scatterpolar\":[{\"marker\":{\"colorbar\":{\"outlinewidth\":0,\"ticks\":\"\"}},\"type\":\"scatterpolar\"}],\"scatterpolargl\":[{\"marker\":{\"colorbar\":{\"outlinewidth\":0,\"ticks\":\"\"}},\"type\":\"scatterpolargl\"}],\"scatterternary\":[{\"marker\":{\"colorbar\":{\"outlinewidth\":0,\"ticks\":\"\"}},\"type\":\"scatterternary\"}],\"surface\":[{\"colorbar\":{\"outlinewidth\":0,\"ticks\":\"\"},\"colorscale\":[[0.0,\"#0d0887\"],[0.1111111111111111,\"#46039f\"],[0.2222222222222222,\"#7201a8\"],[0.3333333333333333,\"#9c179e\"],[0.4444444444444444,\"#bd3786\"],[0.5555555555555556,\"#d8576b\"],[0.6666666666666666,\"#ed7953\"],[0.7777777777777778,\"#fb9f3a\"],[0.8888888888888888,\"#fdca26\"],[1.0,\"#f0f921\"]],\"type\":\"surface\"}],\"table\":[{\"cells\":{\"fill\":{\"color\":\"#EBF0F8\"},\"line\":{\"color\":\"white\"}},\"header\":{\"fill\":{\"color\":\"#C8D4E3\"},\"line\":{\"color\":\"white\"}},\"type\":\"table\"}]},\"layout\":{\"annotationdefaults\":{\"arrowcolor\":\"#2a3f5f\",\"arrowhead\":0,\"arrowwidth\":1},\"autotypenumbers\":\"strict\",\"coloraxis\":{\"colorbar\":{\"outlinewidth\":0,\"ticks\":\"\"}},\"colorscale\":{\"diverging\":[[0,\"#8e0152\"],[0.1,\"#c51b7d\"],[0.2,\"#de77ae\"],[0.3,\"#f1b6da\"],[0.4,\"#fde0ef\"],[0.5,\"#f7f7f7\"],[0.6,\"#e6f5d0\"],[0.7,\"#b8e186\"],[0.8,\"#7fbc41\"],[0.9,\"#4d9221\"],[1,\"#276419\"]],\"sequential\":[[0.0,\"#0d0887\"],[0.1111111111111111,\"#46039f\"],[0.2222222222222222,\"#7201a8\"],[0.3333333333333333,\"#9c179e\"],[0.4444444444444444,\"#bd3786\"],[0.5555555555555556,\"#d8576b\"],[0.6666666666666666,\"#ed7953\"],[0.7777777777777778,\"#fb9f3a\"],[0.8888888888888888,\"#fdca26\"],[1.0,\"#f0f921\"]],\"sequentialminus\":[[0.0,\"#0d0887\"],[0.1111111111111111,\"#46039f\"],[0.2222222222222222,\"#7201a8\"],[0.3333333333333333,\"#9c179e\"],[0.4444444444444444,\"#bd3786\"],[0.5555555555555556,\"#d8576b\"],[0.6666666666666666,\"#ed7953\"],[0.7777777777777778,\"#fb9f3a\"],[0.8888888888888888,\"#fdca26\"],[1.0,\"#f0f921\"]]},\"colorway\":[\"#636efa\",\"#EF553B\",\"#00cc96\",\"#ab63fa\",\"#FFA15A\",\"#19d3f3\",\"#FF6692\",\"#B6E880\",\"#FF97FF\",\"#FECB52\"],\"font\":{\"color\":\"#2a3f5f\"},\"geo\":{\"bgcolor\":\"white\",\"lakecolor\":\"white\",\"landcolor\":\"#E5ECF6\",\"showlakes\":true,\"showland\":true,\"subunitcolor\":\"white\"},\"hoverlabel\":{\"align\":\"left\"},\"hovermode\":\"closest\",\"mapbox\":{\"style\":\"light\"},\"paper_bgcolor\":\"white\",\"plot_bgcolor\":\"#E5ECF6\",\"polar\":{\"angularaxis\":{\"gridcolor\":\"white\",\"linecolor\":\"white\",\"ticks\":\"\"},\"bgcolor\":\"#E5ECF6\",\"radialaxis\":{\"gridcolor\":\"white\",\"linecolor\":\"white\",\"ticks\":\"\"}},\"scene\":{\"xaxis\":{\"backgroundcolor\":\"#E5ECF6\",\"gridcolor\":\"white\",\"gridwidth\":2,\"linecolor\":\"white\",\"showbackground\":true,\"ticks\":\"\",\"zerolinecolor\":\"white\"},\"yaxis\":{\"backgroundcolor\":\"#E5ECF6\",\"gridcolor\":\"white\",\"gridwidth\":2,\"linecolor\":\"white\",\"showbackground\":true,\"ticks\":\"\",\"zerolinecolor\":\"white\"},\"zaxis\":{\"backgroundcolor\":\"#E5ECF6\",\"gridcolor\":\"white\",\"gridwidth\":2,\"linecolor\":\"white\",\"showbackground\":true,\"ticks\":\"\",\"zerolinecolor\":\"white\"}},\"shapedefaults\":{\"line\":{\"color\":\"#2a3f5f\"}},\"ternary\":{\"aaxis\":{\"gridcolor\":\"white\",\"linecolor\":\"white\",\"ticks\":\"\"},\"baxis\":{\"gridcolor\":\"white\",\"linecolor\":\"white\",\"ticks\":\"\"},\"bgcolor\":\"#E5ECF6\",\"caxis\":{\"gridcolor\":\"white\",\"linecolor\":\"white\",\"ticks\":\"\"}},\"title\":{\"x\":0.05},\"xaxis\":{\"automargin\":true,\"gridcolor\":\"white\",\"linecolor\":\"white\",\"ticks\":\"\",\"title\":{\"standoff\":15},\"zerolinecolor\":\"white\",\"zerolinewidth\":2},\"yaxis\":{\"automargin\":true,\"gridcolor\":\"white\",\"linecolor\":\"white\",\"ticks\":\"\",\"title\":{\"standoff\":15},\"zerolinecolor\":\"white\",\"zerolinewidth\":2}}},\"title\":{\"text\":\"Certified vs Denied Every Year\",\"x\":0.5}},                        {\"responsive\": true}                    ).then(function(){\n",
       "                            \n",
       "var gd = document.getElementById('b485b670-de8c-41e1-9923-c89da1a053f0');\n",
       "var x = new MutationObserver(function (mutations, observer) {{\n",
       "        var display = window.getComputedStyle(gd).display;\n",
       "        if (!display || display === 'none') {{\n",
       "            console.log([gd, 'removed!']);\n",
       "            Plotly.purge(gd);\n",
       "            observer.disconnect();\n",
       "        }}\n",
       "}});\n",
       "\n",
       "// Listen for the removal of the full notebook cells\n",
       "var notebookContainer = gd.closest('#notebook-container');\n",
       "if (notebookContainer) {{\n",
       "    x.observe(notebookContainer, {childList: true});\n",
       "}}\n",
       "\n",
       "// Listen for the clearing of the current output cell\n",
       "var outputEl = gd.closest('.output');\n",
       "if (outputEl) {{\n",
       "    x.observe(outputEl, {childList: true});\n",
       "}}\n",
       "\n",
       "                        })                };                });            </script>        </div>"
      ]
     },
     "metadata": {},
     "output_type": "display_data"
    }
   ],
   "source": [
    "lst = list(h1b_df.groupby('Year'))\n",
    "rows = 2\n",
    "cols = 3\n",
    "subplot_titles = [l[0] for l in lst]\n",
    "specs = [[{'type':'domain'}] * cols] * rows\n",
    "fig = make_subplots(\n",
    "        rows=rows,\n",
    "        cols=cols,\n",
    "        subplot_titles=subplot_titles,\n",
    "        specs=specs)\n",
    "\n",
    "for i, l in enumerate(lst):\n",
    "    row = i // cols + 1\n",
    "    col = i % (rows + 1) + 1\n",
    "    d = l[1]\n",
    "    a=list(set(d[\"CASE_STATUS\"]))\n",
    "    a.sort()\n",
    "    fig.add_trace(\n",
    "        go.Pie(labels=a,\n",
    "               values=list(d[\"CASE_STATUS\"].value_counts()),\n",
    "               showlegend=False,\n",
    "               textposition='inside',\n",
    "               textinfo='label+percent'),\n",
    "         row=row,\n",
    "         col=col\n",
    "    )\n",
    "    \n",
    "fig.update_layout(title=\"Certified vs Denied Every Year\", title_x=0.5)\n",
    "fig.show()"
   ]
  },
  {
   "cell_type": "code",
   "execution_count": null,
   "id": "9d50543f",
   "metadata": {},
   "outputs": [],
   "source": []
  }
 ],
 "metadata": {
  "kernelspec": {
   "display_name": "Python 3 (ipykernel)",
   "language": "python",
   "name": "python3"
  },
  "language_info": {
   "codemirror_mode": {
    "name": "ipython",
    "version": 3
   },
   "file_extension": ".py",
   "mimetype": "text/x-python",
   "name": "python",
   "nbconvert_exporter": "python",
   "pygments_lexer": "ipython3",
   "version": "3.9.6"
  }
 },
 "nbformat": 4,
 "nbformat_minor": 5
}
